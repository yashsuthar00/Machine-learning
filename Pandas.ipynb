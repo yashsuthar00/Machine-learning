{
  "nbformat": 4,
  "nbformat_minor": 0,
  "metadata": {
    "colab": {
      "provenance": [],
      "include_colab_link": true
    },
    "kernelspec": {
      "name": "python3",
      "display_name": "Python 3"
    },
    "language_info": {
      "name": "python"
    }
  },
  "cells": [
    {
      "cell_type": "markdown",
      "metadata": {
        "id": "view-in-github",
        "colab_type": "text"
      },
      "source": [
        "<a href=\"https://colab.research.google.com/github/yashsuthar00/Machine-learning/blob/main/Pandas.ipynb\" target=\"_parent\"><img src=\"https://colab.research.google.com/assets/colab-badge.svg\" alt=\"Open In Colab\"/></a>"
      ]
    },
    {
      "cell_type": "markdown",
      "source": [
        "\n",
        "\n",
        "```\n",
        "# Pandas\n",
        "```\n",
        "\n"
      ],
      "metadata": {
        "id": "_-_hXv0VPc_N"
      }
    },
    {
      "cell_type": "code",
      "execution_count": null,
      "metadata": {
        "id": "bC3H-9QCPaj9"
      },
      "outputs": [],
      "source": [
        "import pandas as pd"
      ]
    },
    {
      "cell_type": "code",
      "source": [
        "from google.colab import drive\n",
        "drive.mount('/content/drive')\n",
        "from IPython.core.interactiveshell import InteractiveShell\n",
        "InteractiveShell.ast_node_interactivity = \"all\"\n",
        "%config IPCompleter.greedy=True\n",
        "import warnings\n",
        "warnings.filterwarnings(\"ignore\")\n",
        "df =pd.read_csv(\"drive/My Drive/ML Workshop/tips.csv\")"
      ],
      "metadata": {
        "colab": {
          "base_uri": "https://localhost:8080/"
        },
        "id": "G8HpB3xyQIMC",
        "outputId": "2287f446-4e71-4826-8e5b-db7194371eff"
      },
      "execution_count": null,
      "outputs": [
        {
          "output_type": "stream",
          "name": "stdout",
          "text": [
            "Drive already mounted at /content/drive; to attempt to forcibly remount, call drive.mount(\"/content/drive\", force_remount=True).\n"
          ]
        }
      ]
    },
    {
      "cell_type": "markdown",
      "source": [
        "# Inspect the data"
      ],
      "metadata": {
        "id": "YBtFseU6QtQs"
      }
    },
    {
      "cell_type": "code",
      "source": [
        "# Inspect data\n",
        "print(df.head())"
      ],
      "metadata": {
        "colab": {
          "base_uri": "https://localhost:8080/"
        },
        "id": "R4wrhC3PQr7f",
        "outputId": "0224fa74-7468-4767-8455-5b4099e78451"
      },
      "execution_count": null,
      "outputs": [
        {
          "output_type": "stream",
          "name": "stdout",
          "text": [
            "   total_bill   tip  gender smoker  day    time  size\n",
            "0       16.99  1.01  Female     No  Sun  Dinner     2\n",
            "1       10.34  1.66    Male     No  Sun  Dinner     3\n",
            "2       21.01  3.50    Male     No  Tue   Lunch     3\n",
            "3       23.68  3.31    Male     No  Sun  Dinner     2\n",
            "4       23.68  3.31    Male     No  Sun  Dinner     2\n"
          ]
        }
      ]
    },
    {
      "cell_type": "code",
      "source": [
        "print(df.info())\n"
      ],
      "metadata": {
        "colab": {
          "base_uri": "https://localhost:8080/"
        },
        "id": "gVnlXtYqRDXT",
        "outputId": "1563c45c-fadf-44bb-d740-715485b2fd4f"
      },
      "execution_count": null,
      "outputs": [
        {
          "output_type": "stream",
          "name": "stdout",
          "text": [
            "<class 'pandas.core.frame.DataFrame'>\n",
            "RangeIndex: 9 entries, 0 to 8\n",
            "Data columns (total 7 columns):\n",
            " #   Column      Non-Null Count  Dtype  \n",
            "---  ------      --------------  -----  \n",
            " 0   total_bill  9 non-null      float64\n",
            " 1   tip         8 non-null      float64\n",
            " 2   gender      9 non-null      object \n",
            " 3   smoker      9 non-null      object \n",
            " 4   day         9 non-null      object \n",
            " 5   time        8 non-null      object \n",
            " 6   size        9 non-null      int64  \n",
            "dtypes: float64(2), int64(1), object(4)\n",
            "memory usage: 632.0+ bytes\n",
            "None\n"
          ]
        }
      ]
    },
    {
      "cell_type": "code",
      "source": [
        "print(df.describe())"
      ],
      "metadata": {
        "colab": {
          "base_uri": "https://localhost:8080/"
        },
        "id": "aAjUiFDNRIAS",
        "outputId": "ad531ba6-99c5-4f89-eb38-0eec835b47ca"
      },
      "execution_count": null,
      "outputs": [
        {
          "output_type": "stream",
          "name": "stdout",
          "text": [
            "       total_bill      tip      size\n",
            "count    9.000000  8.00000  9.000000\n",
            "mean    18.896667  2.64750  2.444444\n",
            "std      6.433465  0.95588  0.726483\n",
            "min      8.770000  1.01000  2.000000\n",
            "25%     15.040000  1.88500  2.000000\n",
            "50%     21.010000  3.21500  2.000000\n",
            "75%     23.680000  3.31000  3.000000\n",
            "max     26.880000  3.50000  4.000000\n"
          ]
        }
      ]
    },
    {
      "cell_type": "markdown",
      "source": [
        "# Null Value Checking"
      ],
      "metadata": {
        "id": "NRgbZTLeTX8R"
      }
    },
    {
      "cell_type": "code",
      "source": [
        "# Check for null values\n",
        "print(df.isnull())  # Returns DataFrame with True/False for nulls\n"
      ],
      "metadata": {
        "colab": {
          "base_uri": "https://localhost:8080/"
        },
        "id": "mwuY4XXYTa4-",
        "outputId": "338f71f3-e0a6-4f14-cb4a-7586995b95e0"
      },
      "execution_count": null,
      "outputs": [
        {
          "output_type": "stream",
          "name": "stdout",
          "text": [
            "   total_bill    tip  gender  smoker    day   time   size\n",
            "0       False  False   False   False  False  False  False\n",
            "1       False  False   False   False  False  False  False\n",
            "2       False  False   False   False  False  False  False\n",
            "3       False  False   False   False  False  False  False\n",
            "4       False  False   False   False  False  False  False\n",
            "5       False  False   False   False  False  False  False\n",
            "6       False   True   False   False  False   True  False\n",
            "7       False  False   False   False  False  False  False\n",
            "8       False  False   False   False  False  False  False\n"
          ]
        }
      ]
    },
    {
      "cell_type": "code",
      "source": [
        "print(df.isnull().sum())  # Returns count of nulls in each column\n"
      ],
      "metadata": {
        "colab": {
          "base_uri": "https://localhost:8080/"
        },
        "id": "KxMDLURhTi_8",
        "outputId": "523fbcba-942a-44ce-d41b-7f30fc7d41b4"
      },
      "execution_count": null,
      "outputs": [
        {
          "output_type": "stream",
          "name": "stdout",
          "text": [
            "total_bill    0\n",
            "tip           1\n",
            "gender        0\n",
            "smoker        0\n",
            "day           0\n",
            "time          1\n",
            "size          0\n",
            "dtype: int64\n"
          ]
        }
      ]
    },
    {
      "cell_type": "code",
      "source": [
        "print(df.isnull().any())  # Checks if any nulls are present in each column\n"
      ],
      "metadata": {
        "colab": {
          "base_uri": "https://localhost:8080/"
        },
        "id": "-Vmr1qpVTmV1",
        "outputId": "89b6ffe7-cae1-46f3-85a7-27eebfd980f0"
      },
      "execution_count": null,
      "outputs": [
        {
          "output_type": "stream",
          "name": "stdout",
          "text": [
            "total_bill    False\n",
            "tip            True\n",
            "gender        False\n",
            "smoker        False\n",
            "day           False\n",
            "time           True\n",
            "size          False\n",
            "dtype: bool\n"
          ]
        }
      ]
    },
    {
      "cell_type": "code",
      "source": [
        "print(df.isnull().sum().sum())  # Total number of null values in the DataFrame"
      ],
      "metadata": {
        "colab": {
          "base_uri": "https://localhost:8080/"
        },
        "id": "jz73VGwlTpT_",
        "outputId": "495cbfae-e1a5-4027-e105-456b0a86d668"
      },
      "execution_count": null,
      "outputs": [
        {
          "output_type": "stream",
          "name": "stdout",
          "text": [
            "2\n"
          ]
        }
      ]
    },
    {
      "cell_type": "markdown",
      "source": [
        "# Data Cleaning"
      ],
      "metadata": {
        "id": "_gKhfGwVRcoM"
      }
    },
    {
      "cell_type": "code",
      "source": [
        "df1 = df\n",
        "df1 = df1.dropna()  # Drop rows with missing values\n"
      ],
      "metadata": {
        "id": "xGpMjmhkRbHE"
      },
      "execution_count": null,
      "outputs": []
    },
    {
      "cell_type": "code",
      "source": [
        "print(df1.info())"
      ],
      "metadata": {
        "colab": {
          "base_uri": "https://localhost:8080/"
        },
        "id": "jpdqha14SgHS",
        "outputId": "1ed1c339-ec24-4efd-9852-53fdbce58bef"
      },
      "execution_count": null,
      "outputs": [
        {
          "output_type": "stream",
          "name": "stdout",
          "text": [
            "<class 'pandas.core.frame.DataFrame'>\n",
            "Index: 8 entries, 0 to 8\n",
            "Data columns (total 7 columns):\n",
            " #   Column      Non-Null Count  Dtype  \n",
            "---  ------      --------------  -----  \n",
            " 0   total_bill  8 non-null      float64\n",
            " 1   tip         8 non-null      float64\n",
            " 2   gender      8 non-null      object \n",
            " 3   smoker      8 non-null      object \n",
            " 4   day         8 non-null      object \n",
            " 5   time        8 non-null      object \n",
            " 6   size        8 non-null      int64  \n",
            "dtypes: float64(2), int64(1), object(4)\n",
            "memory usage: 512.0+ bytes\n",
            "None\n"
          ]
        }
      ]
    },
    {
      "cell_type": "markdown",
      "source": [
        "# Drop Duplicate Rows"
      ],
      "metadata": {
        "id": "hBjuU1NaShDv"
      }
    },
    {
      "cell_type": "code",
      "source": [
        "df1 = df1.drop_duplicates()  # Remove duplicate rows"
      ],
      "metadata": {
        "id": "cWBxA3wEShaW"
      },
      "execution_count": null,
      "outputs": []
    },
    {
      "cell_type": "code",
      "source": [
        "print(df1.info())"
      ],
      "metadata": {
        "colab": {
          "base_uri": "https://localhost:8080/"
        },
        "id": "SPsd3gDsS1Sk",
        "outputId": "b1dc5fa6-a2a7-4d13-a3f7-b308a8fc8fa8"
      },
      "execution_count": null,
      "outputs": [
        {
          "output_type": "stream",
          "name": "stdout",
          "text": [
            "<class 'pandas.core.frame.DataFrame'>\n",
            "Index: 6 entries, 0 to 8\n",
            "Data columns (total 7 columns):\n",
            " #   Column      Non-Null Count  Dtype  \n",
            "---  ------      --------------  -----  \n",
            " 0   total_bill  6 non-null      float64\n",
            " 1   tip         6 non-null      float64\n",
            " 2   gender      6 non-null      object \n",
            " 3   smoker      6 non-null      object \n",
            " 4   day         6 non-null      object \n",
            " 5   time        6 non-null      object \n",
            " 6   size        6 non-null      int64  \n",
            "dtypes: float64(2), int64(1), object(4)\n",
            "memory usage: 384.0+ bytes\n",
            "None\n"
          ]
        }
      ]
    },
    {
      "cell_type": "markdown",
      "source": [
        "# Drop Column"
      ],
      "metadata": {
        "id": "x5tYmkdwUobR"
      }
    },
    {
      "cell_type": "code",
      "source": [
        "# Data selection\n",
        "X = df1.drop('time', axis=1)\n",
        "y = df1['time']"
      ],
      "metadata": {
        "id": "e1qwdZn9UuG1"
      },
      "execution_count": null,
      "outputs": []
    },
    {
      "cell_type": "code",
      "source": [
        "print(X.info())"
      ],
      "metadata": {
        "colab": {
          "base_uri": "https://localhost:8080/"
        },
        "id": "WDPhc044U_pD",
        "outputId": "eec73643-ac15-4dbf-a007-4d93f20893cc"
      },
      "execution_count": null,
      "outputs": [
        {
          "output_type": "stream",
          "name": "stdout",
          "text": [
            "<class 'pandas.core.frame.DataFrame'>\n",
            "Index: 6 entries, 0 to 8\n",
            "Data columns (total 6 columns):\n",
            " #   Column      Non-Null Count  Dtype  \n",
            "---  ------      --------------  -----  \n",
            " 0   total_bill  6 non-null      float64\n",
            " 1   tip         6 non-null      float64\n",
            " 2   gender      6 non-null      object \n",
            " 3   smoker      6 non-null      object \n",
            " 4   day         6 non-null      object \n",
            " 5   size        6 non-null      int64  \n",
            "dtypes: float64(2), int64(1), object(3)\n",
            "memory usage: 336.0+ bytes\n",
            "None\n"
          ]
        }
      ]
    },
    {
      "cell_type": "markdown",
      "source": [
        "# Fill Specified Values in null"
      ],
      "metadata": {
        "id": "GRr7ZoqQVX2U"
      }
    },
    {
      "cell_type": "code",
      "source": [
        "df_filled = df.fillna(5)\n"
      ],
      "metadata": {
        "id": "BZG1ZQhUVcCl"
      },
      "execution_count": null,
      "outputs": []
    },
    {
      "cell_type": "code",
      "source": [
        "print(df_filled.info())"
      ],
      "metadata": {
        "colab": {
          "base_uri": "https://localhost:8080/"
        },
        "id": "DF0ZV5SqVhTW",
        "outputId": "a9005a19-4979-4dbf-ac64-1b6aea01d202"
      },
      "execution_count": null,
      "outputs": [
        {
          "output_type": "stream",
          "name": "stdout",
          "text": [
            "<class 'pandas.core.frame.DataFrame'>\n",
            "RangeIndex: 9 entries, 0 to 8\n",
            "Data columns (total 7 columns):\n",
            " #   Column      Non-Null Count  Dtype  \n",
            "---  ------      --------------  -----  \n",
            " 0   total_bill  9 non-null      float64\n",
            " 1   tip         9 non-null      float64\n",
            " 2   gender      9 non-null      object \n",
            " 3   smoker      9 non-null      object \n",
            " 4   day         9 non-null      object \n",
            " 5   time        9 non-null      object \n",
            " 6   size        9 non-null      int64  \n",
            "dtypes: float64(2), int64(1), object(4)\n",
            "memory usage: 632.0+ bytes\n",
            "None\n"
          ]
        }
      ]
    },
    {
      "cell_type": "markdown",
      "source": [
        "# Replace Value"
      ],
      "metadata": {
        "id": "g3QWm-XxWG3_"
      }
    },
    {
      "cell_type": "code",
      "source": [
        "print(df.head(10))"
      ],
      "metadata": {
        "colab": {
          "base_uri": "https://localhost:8080/"
        },
        "id": "EMWuxYaPWNZs",
        "outputId": "953ae37f-043c-4e08-828c-30b3ebf5a8f3"
      },
      "execution_count": null,
      "outputs": [
        {
          "output_type": "stream",
          "name": "stdout",
          "text": [
            "   total_bill   tip  gender smoker  day    time  size\n",
            "0       16.99  1.01  Female     No  Sun  Dinner     2\n",
            "1       10.34  1.66    Male     No  Sun  Dinner     3\n",
            "2       21.01  3.50    Male     No  Tue   Lunch     3\n",
            "3       23.68  3.31    Male     No  Sun  Dinner     2\n",
            "4       23.68  3.31    Male     No  Sun  Dinner     2\n",
            "5       23.68  3.31    Male     No  Sun  Dinner     2\n",
            "6        8.77   NaN    Male     No  Sun     NaN     2\n",
            "7       26.88  3.12    Male     No  Sun   Lunch     4\n",
            "8       15.04  1.96    Male     No  Sun  Dinner     2\n"
          ]
        }
      ]
    },
    {
      "cell_type": "code",
      "source": [
        "ndf = df.replace(3.31, 25)\n",
        "print(ndf.head(10))"
      ],
      "metadata": {
        "colab": {
          "base_uri": "https://localhost:8080/"
        },
        "id": "NkQ-mtVdWJNe",
        "outputId": "93e98544-ef14-4dc2-ee83-a83062ab7db1"
      },
      "execution_count": null,
      "outputs": [
        {
          "output_type": "stream",
          "name": "stdout",
          "text": [
            "   total_bill    tip  gender smoker  day    time  size\n",
            "0       16.99   1.01  Female     No  Sun  Dinner     2\n",
            "1       10.34   1.66    Male     No  Sun  Dinner     3\n",
            "2       21.01   3.50    Male     No  Tue   Lunch     3\n",
            "3       23.68  25.00    Male     No  Sun  Dinner     2\n",
            "4       23.68  25.00    Male     No  Sun  Dinner     2\n",
            "5       23.68  25.00    Male     No  Sun  Dinner     2\n",
            "6        8.77    NaN    Male     No  Sun     NaN     2\n",
            "7       26.88   3.12    Male     No  Sun   Lunch     4\n",
            "8       15.04   1.96    Male     No  Sun  Dinner     2\n"
          ]
        }
      ]
    },
    {
      "cell_type": "markdown",
      "source": [
        "# Select Column"
      ],
      "metadata": {
        "id": "FkBsmTTNXQ1y"
      }
    },
    {
      "cell_type": "code",
      "source": [
        "df['day']"
      ],
      "metadata": {
        "colab": {
          "base_uri": "https://localhost:8080/"
        },
        "id": "YIykiwlwXS4N",
        "outputId": "c54b459c-1c9a-4b87-93b6-429be1556805"
      },
      "execution_count": null,
      "outputs": [
        {
          "output_type": "execute_result",
          "data": {
            "text/plain": [
              "0    Sun\n",
              "1    Sun\n",
              "2    Tue\n",
              "3    Sun\n",
              "4    Sun\n",
              "5    Sun\n",
              "6    Sun\n",
              "7    Sun\n",
              "8    Sun\n",
              "Name: day, dtype: object"
            ]
          },
          "metadata": {},
          "execution_count": 47
        }
      ]
    },
    {
      "cell_type": "markdown",
      "source": [
        "Select Multiple Columns"
      ],
      "metadata": {
        "id": "Eyh-JZDwYJTG"
      }
    },
    {
      "cell_type": "code",
      "source": [
        "# df[['col1', 'col2']]: Selects multiple columns.\n",
        "\n",
        "df[['day','tip']]"
      ],
      "metadata": {
        "colab": {
          "base_uri": "https://localhost:8080/",
          "height": 332
        },
        "id": "s40LRy4WXfNV",
        "outputId": "dc53307e-6bae-4c9c-c30e-7cc5e01ab593"
      },
      "execution_count": null,
      "outputs": [
        {
          "output_type": "execute_result",
          "data": {
            "text/plain": [
              "   day   tip\n",
              "0  Sun  1.01\n",
              "1  Sun  1.66\n",
              "2  Tue  3.50\n",
              "3  Sun  3.31\n",
              "4  Sun  3.31\n",
              "5  Sun  3.31\n",
              "6  Sun   NaN\n",
              "7  Sun  3.12\n",
              "8  Sun  1.96"
            ],
            "text/html": [
              "\n",
              "  <div id=\"df-5b68d337-14f1-4edf-b0e9-50ba9682e42f\" class=\"colab-df-container\">\n",
              "    <div>\n",
              "<style scoped>\n",
              "    .dataframe tbody tr th:only-of-type {\n",
              "        vertical-align: middle;\n",
              "    }\n",
              "\n",
              "    .dataframe tbody tr th {\n",
              "        vertical-align: top;\n",
              "    }\n",
              "\n",
              "    .dataframe thead th {\n",
              "        text-align: right;\n",
              "    }\n",
              "</style>\n",
              "<table border=\"1\" class=\"dataframe\">\n",
              "  <thead>\n",
              "    <tr style=\"text-align: right;\">\n",
              "      <th></th>\n",
              "      <th>day</th>\n",
              "      <th>tip</th>\n",
              "    </tr>\n",
              "  </thead>\n",
              "  <tbody>\n",
              "    <tr>\n",
              "      <th>0</th>\n",
              "      <td>Sun</td>\n",
              "      <td>1.01</td>\n",
              "    </tr>\n",
              "    <tr>\n",
              "      <th>1</th>\n",
              "      <td>Sun</td>\n",
              "      <td>1.66</td>\n",
              "    </tr>\n",
              "    <tr>\n",
              "      <th>2</th>\n",
              "      <td>Tue</td>\n",
              "      <td>3.50</td>\n",
              "    </tr>\n",
              "    <tr>\n",
              "      <th>3</th>\n",
              "      <td>Sun</td>\n",
              "      <td>3.31</td>\n",
              "    </tr>\n",
              "    <tr>\n",
              "      <th>4</th>\n",
              "      <td>Sun</td>\n",
              "      <td>3.31</td>\n",
              "    </tr>\n",
              "    <tr>\n",
              "      <th>5</th>\n",
              "      <td>Sun</td>\n",
              "      <td>3.31</td>\n",
              "    </tr>\n",
              "    <tr>\n",
              "      <th>6</th>\n",
              "      <td>Sun</td>\n",
              "      <td>NaN</td>\n",
              "    </tr>\n",
              "    <tr>\n",
              "      <th>7</th>\n",
              "      <td>Sun</td>\n",
              "      <td>3.12</td>\n",
              "    </tr>\n",
              "    <tr>\n",
              "      <th>8</th>\n",
              "      <td>Sun</td>\n",
              "      <td>1.96</td>\n",
              "    </tr>\n",
              "  </tbody>\n",
              "</table>\n",
              "</div>\n",
              "    <div class=\"colab-df-buttons\">\n",
              "\n",
              "  <div class=\"colab-df-container\">\n",
              "    <button class=\"colab-df-convert\" onclick=\"convertToInteractive('df-5b68d337-14f1-4edf-b0e9-50ba9682e42f')\"\n",
              "            title=\"Convert this dataframe to an interactive table.\"\n",
              "            style=\"display:none;\">\n",
              "\n",
              "  <svg xmlns=\"http://www.w3.org/2000/svg\" height=\"24px\" viewBox=\"0 -960 960 960\">\n",
              "    <path d=\"M120-120v-720h720v720H120Zm60-500h600v-160H180v160Zm220 220h160v-160H400v160Zm0 220h160v-160H400v160ZM180-400h160v-160H180v160Zm440 0h160v-160H620v160ZM180-180h160v-160H180v160Zm440 0h160v-160H620v160Z\"/>\n",
              "  </svg>\n",
              "    </button>\n",
              "\n",
              "  <style>\n",
              "    .colab-df-container {\n",
              "      display:flex;\n",
              "      gap: 12px;\n",
              "    }\n",
              "\n",
              "    .colab-df-convert {\n",
              "      background-color: #E8F0FE;\n",
              "      border: none;\n",
              "      border-radius: 50%;\n",
              "      cursor: pointer;\n",
              "      display: none;\n",
              "      fill: #1967D2;\n",
              "      height: 32px;\n",
              "      padding: 0 0 0 0;\n",
              "      width: 32px;\n",
              "    }\n",
              "\n",
              "    .colab-df-convert:hover {\n",
              "      background-color: #E2EBFA;\n",
              "      box-shadow: 0px 1px 2px rgba(60, 64, 67, 0.3), 0px 1px 3px 1px rgba(60, 64, 67, 0.15);\n",
              "      fill: #174EA6;\n",
              "    }\n",
              "\n",
              "    .colab-df-buttons div {\n",
              "      margin-bottom: 4px;\n",
              "    }\n",
              "\n",
              "    [theme=dark] .colab-df-convert {\n",
              "      background-color: #3B4455;\n",
              "      fill: #D2E3FC;\n",
              "    }\n",
              "\n",
              "    [theme=dark] .colab-df-convert:hover {\n",
              "      background-color: #434B5C;\n",
              "      box-shadow: 0px 1px 3px 1px rgba(0, 0, 0, 0.15);\n",
              "      filter: drop-shadow(0px 1px 2px rgba(0, 0, 0, 0.3));\n",
              "      fill: #FFFFFF;\n",
              "    }\n",
              "  </style>\n",
              "\n",
              "    <script>\n",
              "      const buttonEl =\n",
              "        document.querySelector('#df-5b68d337-14f1-4edf-b0e9-50ba9682e42f button.colab-df-convert');\n",
              "      buttonEl.style.display =\n",
              "        google.colab.kernel.accessAllowed ? 'block' : 'none';\n",
              "\n",
              "      async function convertToInteractive(key) {\n",
              "        const element = document.querySelector('#df-5b68d337-14f1-4edf-b0e9-50ba9682e42f');\n",
              "        const dataTable =\n",
              "          await google.colab.kernel.invokeFunction('convertToInteractive',\n",
              "                                                    [key], {});\n",
              "        if (!dataTable) return;\n",
              "\n",
              "        const docLinkHtml = 'Like what you see? Visit the ' +\n",
              "          '<a target=\"_blank\" href=https://colab.research.google.com/notebooks/data_table.ipynb>data table notebook</a>'\n",
              "          + ' to learn more about interactive tables.';\n",
              "        element.innerHTML = '';\n",
              "        dataTable['output_type'] = 'display_data';\n",
              "        await google.colab.output.renderOutput(dataTable, element);\n",
              "        const docLink = document.createElement('div');\n",
              "        docLink.innerHTML = docLinkHtml;\n",
              "        element.appendChild(docLink);\n",
              "      }\n",
              "    </script>\n",
              "  </div>\n",
              "\n",
              "\n",
              "<div id=\"df-73e4ecbd-1f62-4e84-b19a-d7124ea183f8\">\n",
              "  <button class=\"colab-df-quickchart\" onclick=\"quickchart('df-73e4ecbd-1f62-4e84-b19a-d7124ea183f8')\"\n",
              "            title=\"Suggest charts\"\n",
              "            style=\"display:none;\">\n",
              "\n",
              "<svg xmlns=\"http://www.w3.org/2000/svg\" height=\"24px\"viewBox=\"0 0 24 24\"\n",
              "     width=\"24px\">\n",
              "    <g>\n",
              "        <path d=\"M19 3H5c-1.1 0-2 .9-2 2v14c0 1.1.9 2 2 2h14c1.1 0 2-.9 2-2V5c0-1.1-.9-2-2-2zM9 17H7v-7h2v7zm4 0h-2V7h2v10zm4 0h-2v-4h2v4z\"/>\n",
              "    </g>\n",
              "</svg>\n",
              "  </button>\n",
              "\n",
              "<style>\n",
              "  .colab-df-quickchart {\n",
              "      --bg-color: #E8F0FE;\n",
              "      --fill-color: #1967D2;\n",
              "      --hover-bg-color: #E2EBFA;\n",
              "      --hover-fill-color: #174EA6;\n",
              "      --disabled-fill-color: #AAA;\n",
              "      --disabled-bg-color: #DDD;\n",
              "  }\n",
              "\n",
              "  [theme=dark] .colab-df-quickchart {\n",
              "      --bg-color: #3B4455;\n",
              "      --fill-color: #D2E3FC;\n",
              "      --hover-bg-color: #434B5C;\n",
              "      --hover-fill-color: #FFFFFF;\n",
              "      --disabled-bg-color: #3B4455;\n",
              "      --disabled-fill-color: #666;\n",
              "  }\n",
              "\n",
              "  .colab-df-quickchart {\n",
              "    background-color: var(--bg-color);\n",
              "    border: none;\n",
              "    border-radius: 50%;\n",
              "    cursor: pointer;\n",
              "    display: none;\n",
              "    fill: var(--fill-color);\n",
              "    height: 32px;\n",
              "    padding: 0;\n",
              "    width: 32px;\n",
              "  }\n",
              "\n",
              "  .colab-df-quickchart:hover {\n",
              "    background-color: var(--hover-bg-color);\n",
              "    box-shadow: 0 1px 2px rgba(60, 64, 67, 0.3), 0 1px 3px 1px rgba(60, 64, 67, 0.15);\n",
              "    fill: var(--button-hover-fill-color);\n",
              "  }\n",
              "\n",
              "  .colab-df-quickchart-complete:disabled,\n",
              "  .colab-df-quickchart-complete:disabled:hover {\n",
              "    background-color: var(--disabled-bg-color);\n",
              "    fill: var(--disabled-fill-color);\n",
              "    box-shadow: none;\n",
              "  }\n",
              "\n",
              "  .colab-df-spinner {\n",
              "    border: 2px solid var(--fill-color);\n",
              "    border-color: transparent;\n",
              "    border-bottom-color: var(--fill-color);\n",
              "    animation:\n",
              "      spin 1s steps(1) infinite;\n",
              "  }\n",
              "\n",
              "  @keyframes spin {\n",
              "    0% {\n",
              "      border-color: transparent;\n",
              "      border-bottom-color: var(--fill-color);\n",
              "      border-left-color: var(--fill-color);\n",
              "    }\n",
              "    20% {\n",
              "      border-color: transparent;\n",
              "      border-left-color: var(--fill-color);\n",
              "      border-top-color: var(--fill-color);\n",
              "    }\n",
              "    30% {\n",
              "      border-color: transparent;\n",
              "      border-left-color: var(--fill-color);\n",
              "      border-top-color: var(--fill-color);\n",
              "      border-right-color: var(--fill-color);\n",
              "    }\n",
              "    40% {\n",
              "      border-color: transparent;\n",
              "      border-right-color: var(--fill-color);\n",
              "      border-top-color: var(--fill-color);\n",
              "    }\n",
              "    60% {\n",
              "      border-color: transparent;\n",
              "      border-right-color: var(--fill-color);\n",
              "    }\n",
              "    80% {\n",
              "      border-color: transparent;\n",
              "      border-right-color: var(--fill-color);\n",
              "      border-bottom-color: var(--fill-color);\n",
              "    }\n",
              "    90% {\n",
              "      border-color: transparent;\n",
              "      border-bottom-color: var(--fill-color);\n",
              "    }\n",
              "  }\n",
              "</style>\n",
              "\n",
              "  <script>\n",
              "    async function quickchart(key) {\n",
              "      const quickchartButtonEl =\n",
              "        document.querySelector('#' + key + ' button');\n",
              "      quickchartButtonEl.disabled = true;  // To prevent multiple clicks.\n",
              "      quickchartButtonEl.classList.add('colab-df-spinner');\n",
              "      try {\n",
              "        const charts = await google.colab.kernel.invokeFunction(\n",
              "            'suggestCharts', [key], {});\n",
              "      } catch (error) {\n",
              "        console.error('Error during call to suggestCharts:', error);\n",
              "      }\n",
              "      quickchartButtonEl.classList.remove('colab-df-spinner');\n",
              "      quickchartButtonEl.classList.add('colab-df-quickchart-complete');\n",
              "    }\n",
              "    (() => {\n",
              "      let quickchartButtonEl =\n",
              "        document.querySelector('#df-73e4ecbd-1f62-4e84-b19a-d7124ea183f8 button');\n",
              "      quickchartButtonEl.style.display =\n",
              "        google.colab.kernel.accessAllowed ? 'block' : 'none';\n",
              "    })();\n",
              "  </script>\n",
              "</div>\n",
              "\n",
              "    </div>\n",
              "  </div>\n"
            ],
            "application/vnd.google.colaboratory.intrinsic+json": {
              "type": "dataframe",
              "summary": "{\n  \"name\": \"df[['day','tip']]\",\n  \"rows\": 9,\n  \"fields\": [\n    {\n      \"column\": \"day\",\n      \"properties\": {\n        \"dtype\": \"category\",\n        \"num_unique_values\": 2,\n        \"samples\": [\n          \"Tue\",\n          \"Sun\"\n        ],\n        \"semantic_type\": \"\",\n        \"description\": \"\"\n      }\n    },\n    {\n      \"column\": \"tip\",\n      \"properties\": {\n        \"dtype\": \"number\",\n        \"std\": 0.9558802973474989,\n        \"min\": 1.01,\n        \"max\": 3.5,\n        \"num_unique_values\": 6,\n        \"samples\": [\n          1.01,\n          1.66\n        ],\n        \"semantic_type\": \"\",\n        \"description\": \"\"\n      }\n    }\n  ]\n}"
            }
          },
          "metadata": {},
          "execution_count": 49
        }
      ]
    },
    {
      "cell_type": "markdown",
      "source": [
        "Accesses  rows and columns by labels"
      ],
      "metadata": {
        "id": "Mv8QYBziYYz5"
      }
    },
    {
      "cell_type": "code",
      "source": [
        "# df.loc[row_label, column_label]\n",
        "df.loc[2, 'total_bill']"
      ],
      "metadata": {
        "colab": {
          "base_uri": "https://localhost:8080/"
        },
        "id": "CqmtoTJaX0Ro",
        "outputId": "7eb41e8f-2c96-4f67-b065-35acf05c8ce9"
      },
      "execution_count": null,
      "outputs": [
        {
          "output_type": "execute_result",
          "data": {
            "text/plain": [
              "21.01"
            ]
          },
          "metadata": {},
          "execution_count": 50
        }
      ]
    },
    {
      "cell_type": "markdown",
      "source": [
        "Accesses a group of rows and columns by integer position."
      ],
      "metadata": {
        "id": "ALU3UbLRYg7g"
      }
    },
    {
      "cell_type": "code",
      "source": [
        "# df.iloc[row_index, column_index]\n",
        "df.iloc[4, 3]"
      ],
      "metadata": {
        "colab": {
          "base_uri": "https://localhost:8080/",
          "height": 35
        },
        "id": "Pcj6hjYLYBsO",
        "outputId": "3d6aa395-cff6-43b2-871b-6c38c6c87be6"
      },
      "execution_count": null,
      "outputs": [
        {
          "output_type": "execute_result",
          "data": {
            "text/plain": [
              "'No'"
            ],
            "application/vnd.google.colaboratory.intrinsic+json": {
              "type": "string"
            }
          },
          "metadata": {},
          "execution_count": 51
        }
      ]
    }
  ]
}