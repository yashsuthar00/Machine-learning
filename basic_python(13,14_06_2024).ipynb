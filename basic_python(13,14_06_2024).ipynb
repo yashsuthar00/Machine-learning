{
  "nbformat": 4,
  "nbformat_minor": 0,
  "metadata": {
    "colab": {
      "provenance": [],
      "authorship_tag": "ABX9TyMslMqbF9UNzFe4cUtsQ5TU",
      "include_colab_link": true
    },
    "kernelspec": {
      "name": "python3",
      "display_name": "Python 3"
    },
    "language_info": {
      "name": "python"
    }
  },
  "cells": [
    {
      "cell_type": "markdown",
      "metadata": {
        "id": "view-in-github",
        "colab_type": "text"
      },
      "source": [
        "<a href=\"https://colab.research.google.com/github/yashsuthar00/Machine-learning/blob/main/basic_python(13%2C14_06_2024).ipynb\" target=\"_parent\"><img src=\"https://colab.research.google.com/assets/colab-badge.svg\" alt=\"Open In Colab\"/></a>"
      ]
    },
    {
      "cell_type": "code",
      "execution_count": null,
      "metadata": {
        "colab": {
          "base_uri": "https://localhost:8080/"
        },
        "id": "3QsRw0s6kmLB",
        "outputId": "6c140cce-33e8-4e17-ff55-5d16d4b08ec1"
      },
      "outputs": [
        {
          "output_type": "stream",
          "name": "stdout",
          "text": [
            "22\n",
            "<class 'int'>\n"
          ]
        }
      ],
      "source": [
        "a=22\n",
        "b=2.5\n",
        "print(a)\n",
        "print(type(a))"
      ]
    },
    {
      "cell_type": "code",
      "source": [
        "a=2\n",
        "b=3\n",
        "print(a+b)"
      ],
      "metadata": {
        "colab": {
          "base_uri": "https://localhost:8080/"
        },
        "id": "Kqs8BXkqlGmM",
        "outputId": "c0840f03-afe4-4a29-8b78-cbe89cc7b0aa"
      },
      "execution_count": null,
      "outputs": [
        {
          "output_type": "stream",
          "name": "stdout",
          "text": [
            "5\n"
          ]
        }
      ]
    },
    {
      "cell_type": "code",
      "source": [
        "a=22\n",
        "b=2\n",
        "print(\"Before swap a=\",a,\"b=\",b)\n",
        "b,a=a,b\n",
        "print(\"After swap a=\",a,\"b=\",b)"
      ],
      "metadata": {
        "colab": {
          "base_uri": "https://localhost:8080/"
        },
        "id": "bdPCjDMXm1tV",
        "outputId": "49fc696b-cf88-41f9-e1dc-27f6a1f76322"
      },
      "execution_count": null,
      "outputs": [
        {
          "output_type": "stream",
          "name": "stdout",
          "text": [
            "Before swap a= 22 b= 2\n",
            "After swap a= 2 b= 22\n"
          ]
        }
      ]
    },
    {
      "cell_type": "code",
      "source": [
        "a= int(input(\"Enter no: \"))\n",
        "b= int(input(\"Enter no2 \"))\n",
        "print(\"Add =\", a+b)"
      ],
      "metadata": {
        "colab": {
          "base_uri": "https://localhost:8080/"
        },
        "id": "Qd8ckDT8npOD",
        "outputId": "bd938ecb-226f-40ed-d9cd-b0727398b31b"
      },
      "execution_count": null,
      "outputs": [
        {
          "output_type": "stream",
          "name": "stdout",
          "text": [
            "Enter no: 22\n",
            "Enter no2 21\n",
            "Add = 43\n"
          ]
        }
      ]
    },
    {
      "cell_type": "code",
      "source": [
        "a= int(input(\"Enter no1: \"))\n",
        "b= int(input(\"Enter no2: \"))\n",
        "print(\"Adition =\", a+b)\n",
        "print(\"Substraction= \", a-b)\n",
        "print(\"Multiplication= \",a*b)\n",
        "print(\"division= \",a/b)"
      ],
      "metadata": {
        "colab": {
          "base_uri": "https://localhost:8080/"
        },
        "id": "1HmoghP0n6e0",
        "outputId": "9880d074-e079-400d-c900-419938864b38"
      },
      "execution_count": null,
      "outputs": [
        {
          "output_type": "stream",
          "name": "stdout",
          "text": [
            "Enter no1: 10\n",
            "Enter no2: 5\n",
            "Adition = 15\n",
            "Substraction=  5\n",
            "Multiplication=  50\n",
            "division=  2.0\n"
          ]
        }
      ]
    },
    {
      "cell_type": "code",
      "source": [
        "print((int(input(\"Enter no1: \")) * (input(\"Enter no2: \"))))"
      ],
      "metadata": {
        "colab": {
          "base_uri": "https://localhost:8080/"
        },
        "id": "YUVjylH8ogcR",
        "outputId": "dbfd73d8-e411-4585-f43b-8a26de8647b2"
      },
      "execution_count": null,
      "outputs": [
        {
          "output_type": "stream",
          "name": "stdout",
          "text": [
            "Enter no1: 5\n",
            "Enter no2: yash\n",
            "yashyashyashyashyash\n"
          ]
        }
      ]
    },
    {
      "cell_type": "code",
      "source": [
        "print(22/2)\n",
        "print(22//2)\n",
        "print(23/2)\n",
        "print(23//2)"
      ],
      "metadata": {
        "colab": {
          "base_uri": "https://localhost:8080/"
        },
        "id": "TiuRlL6Ro-vV",
        "outputId": "b0534ba6-c3ba-44ee-e609-a69da89b7c57"
      },
      "execution_count": null,
      "outputs": [
        {
          "output_type": "stream",
          "name": "stdout",
          "text": [
            "11.0\n",
            "11\n",
            "11.5\n",
            "11\n"
          ]
        }
      ]
    },
    {
      "cell_type": "code",
      "source": [
        "print(2*5)\n",
        "print(2**5)"
      ],
      "metadata": {
        "colab": {
          "base_uri": "https://localhost:8080/"
        },
        "id": "rEqdXZropw_r",
        "outputId": "25386fa5-2541-4495-f44b-c5421254ae5c"
      },
      "execution_count": null,
      "outputs": [
        {
          "output_type": "stream",
          "name": "stdout",
          "text": [
            "10\n",
            "32\n"
          ]
        }
      ]
    },
    {
      "cell_type": "code",
      "source": [
        "a = int(input(\"Enter no1.\"))\n",
        "b = int(input(\"Enter no2.\"))\n",
        "\n",
        "if a>b:\n",
        "  print(\"No1 is greater\")\n",
        "elif b>a:\n",
        "  print(\"No2 is greater\")\n",
        "else:\n",
        "  print(\"Both are equal\")"
      ],
      "metadata": {
        "colab": {
          "base_uri": "https://localhost:8080/"
        },
        "id": "s4mbB-O7p5HE",
        "outputId": "50df11a8-7b56-417a-8a96-bdcd8921a888"
      },
      "execution_count": null,
      "outputs": [
        {
          "output_type": "stream",
          "name": "stdout",
          "text": [
            "Enter no1.5\n",
            "Enter no2.5\n",
            "Both are equal\n"
          ]
        }
      ]
    },
    {
      "cell_type": "code",
      "source": [
        "value = int(input(\"Enter value between 1 to 3\\n\"))\n",
        "\n",
        "if value == 1:\n",
        "  print(\"Sandwich\")\n",
        "elif value == 2:\n",
        "  print(\"Pizza\")\n",
        "elif value == 3:\n",
        "  print(\"Vadapav\")\n",
        "else:\n",
        "  print(\"Enter valid value\")"
      ],
      "metadata": {
        "colab": {
          "base_uri": "https://localhost:8080/"
        },
        "id": "1Cd9szfQqkTm",
        "outputId": "363d3827-98aa-4b5d-e62d-f8c76a65c59c"
      },
      "execution_count": null,
      "outputs": [
        {
          "output_type": "stream",
          "name": "stdout",
          "text": [
            "Enter value between 1 to 3\n",
            "2\n",
            "Pizza\n"
          ]
        }
      ]
    },
    {
      "cell_type": "code",
      "source": [
        "value = int(input(\"Enter value between 1 to 3\\n\"))\n",
        "\n",
        "if value == 1:\n",
        "  print(\"Sandwich\")\n",
        "  qty = int(input(\"Enter the quentity\\n\"))\n",
        "  print(\"Bill = \", qty*100)\n",
        "elif value == 2:\n",
        "  print(\"Pizza\")\n",
        "  qty = int(input(\"Enter the quentity\\n\"))\n",
        "  print(\"Bill = \", qty*200)\n",
        "elif value == 3:\n",
        "  print(\"Vadapav\")\n",
        "  qty = int(input(\"Enter the quentity\\n\"))\n",
        "  print(\"Bill = \", qty*50)\n",
        "else:\n",
        "  print(\"Enter valid value\")"
      ],
      "metadata": {
        "colab": {
          "base_uri": "https://localhost:8080/"
        },
        "id": "NMHBK8bSrxe8",
        "outputId": "fa0dd75d-08d5-4aeb-99d0-27619c2d4af3"
      },
      "execution_count": null,
      "outputs": [
        {
          "output_type": "stream",
          "name": "stdout",
          "text": [
            "Enter value between 1 to 3\n",
            "3\n",
            "Vadapav\n",
            "Enter the quentity\n",
            "10\n",
            "Bill =  500\n"
          ]
        }
      ]
    },
    {
      "cell_type": "code",
      "source": [
        "for i in range(20,1,-1):\n",
        "  print(\"hi\", i)"
      ],
      "metadata": {
        "colab": {
          "base_uri": "https://localhost:8080/"
        },
        "id": "waprYQ8ws8uM",
        "outputId": "ff377fc9-b1f1-412b-8a29-45b8b0f48c66"
      },
      "execution_count": null,
      "outputs": [
        {
          "output_type": "stream",
          "name": "stdout",
          "text": [
            "hi 20\n",
            "hi 19\n",
            "hi 18\n",
            "hi 17\n",
            "hi 16\n",
            "hi 15\n",
            "hi 14\n",
            "hi 13\n",
            "hi 12\n",
            "hi 11\n",
            "hi 10\n",
            "hi 9\n",
            "hi 8\n",
            "hi 7\n",
            "hi 6\n",
            "hi 5\n",
            "hi 4\n",
            "hi 3\n",
            "hi 2\n"
          ]
        }
      ]
    },
    {
      "cell_type": "code",
      "source": [
        "n=int(input(\"Enter no: \"))\n",
        "for i in range(1,n+1):\n",
        "  if i % 2==0:\n",
        "    print(i, \"is even\")\n",
        "  else:\n",
        "    print(i, \"is odd\")"
      ],
      "metadata": {
        "colab": {
          "base_uri": "https://localhost:8080/"
        },
        "id": "hY1n9Nsmt6Sa",
        "outputId": "7a8b8978-30ef-4c81-ba0f-05d1e2245158"
      },
      "execution_count": null,
      "outputs": [
        {
          "output_type": "stream",
          "name": "stdout",
          "text": [
            "Enter no: 5\n",
            "1 is odd\n",
            "2 is even\n",
            "3 is odd\n",
            "4 is even\n",
            "5 is odd\n"
          ]
        }
      ]
    },
    {
      "cell_type": "code",
      "source": [
        "list1 = [1,2,3,4]\n",
        "print(list1)\n",
        "print(max(list1))\n",
        "print(min(list1))\n",
        "print(sum(list1))\n",
        "print(len(list1))"
      ],
      "metadata": {
        "colab": {
          "base_uri": "https://localhost:8080/"
        },
        "id": "8XmI61ZvwQrX",
        "outputId": "0897dfe0-a59c-4f5f-cc92-340a63a0bf22"
      },
      "execution_count": null,
      "outputs": [
        {
          "output_type": "stream",
          "name": "stdout",
          "text": [
            "[1, 2, 3, 4]\n",
            "4\n",
            "1\n",
            "10\n",
            "4\n"
          ]
        }
      ]
    },
    {
      "cell_type": "code",
      "source": [
        "list2 = [11,23,44,56,77,34]\n",
        "for x in list2:\n",
        "  if x>15:\n",
        "    print(x)"
      ],
      "metadata": {
        "colab": {
          "base_uri": "https://localhost:8080/"
        },
        "id": "t5JkTt0ux1_x",
        "outputId": "490fa23d-9ad9-49bb-dc7a-a1226fbae7cd"
      },
      "execution_count": null,
      "outputs": [
        {
          "output_type": "stream",
          "name": "stdout",
          "text": [
            "23\n",
            "44\n",
            "56\n",
            "77\n",
            "34\n"
          ]
        }
      ]
    },
    {
      "cell_type": "code",
      "source": [
        "list3 = [11,23,44,56,77,34]\n",
        "for x in list3:\n",
        "  if x%2==0:\n",
        "    print(x, \"is even\")\n",
        "  else:\n",
        "    print(x, \"is odd\")"
      ],
      "metadata": {
        "colab": {
          "base_uri": "https://localhost:8080/"
        },
        "id": "NdlFsHb5yDjW",
        "outputId": "a11081a0-cb5f-4382-c3e5-9c5c82aff9d7"
      },
      "execution_count": null,
      "outputs": [
        {
          "output_type": "stream",
          "name": "stdout",
          "text": [
            "11 is odd\n",
            "23 is odd\n",
            "44 is even\n",
            "56 is even\n",
            "77 is odd\n",
            "34 is even\n"
          ]
        }
      ]
    },
    {
      "cell_type": "code",
      "source": [
        "set1={11,22,33,44,55}\n",
        "set2={1,2,3}\n",
        "set3={11,22,44,99,88,77}\n",
        "set4={11,22}\n",
        "print(set1)\n",
        "print(\"=======intersection========\")\n",
        "print(set1.intersection(set2))\n",
        "print(set1.intersection(set3))\n",
        "print(set1.intersection(set4))\n",
        "print(\"=======union========\")\n",
        "print(set1.union(set2))\n",
        "print(set1.union(set3))\n",
        "print(set1.union(set4))\n",
        "print(\"=======difference========\")\n",
        "print(set1-set3)\n",
        "print(set3-set1)\n",
        "print(\"=======superset========\")\n",
        "print(set1.issuperset(set2))\n",
        "print(set1.issuperset(set3))\n",
        "print(set1.issuperset(set4))\n",
        "print(set2.issuperset(set1))\n",
        "print(set3.issuperset(set1))\n",
        "print(set4.issuperset(set1))\n",
        "\n",
        "print(\"=======disjoint set========\")\n",
        "print(set1.isdisjoint(set2))\n",
        "print(set1.isdisjoint(set3))\n",
        "print(set1.isdisjoint(set4))"
      ],
      "metadata": {
        "colab": {
          "base_uri": "https://localhost:8080/"
        },
        "id": "MhXeW3_SzacR",
        "outputId": "2d95bde8-9749-40fb-8d5e-6f07bcfd9361"
      },
      "execution_count": null,
      "outputs": [
        {
          "output_type": "stream",
          "name": "stdout",
          "text": [
            "{33, 22, 55, 11, 44}\n",
            "=======intersection========\n",
            "set()\n",
            "{11, 44, 22}\n",
            "{11, 22}\n",
            "=======union========\n",
            "{33, 1, 2, 3, 22, 55, 11, 44}\n",
            "{33, 99, 11, 44, 77, 22, 55, 88}\n",
            "{33, 22, 55, 11, 44}\n",
            "=======difference========\n",
            "{33, 55}\n",
            "{88, 99, 77}\n",
            "=======superset========\n",
            "False\n",
            "False\n",
            "True\n",
            "False\n",
            "False\n",
            "False\n",
            "=======disjoint set========\n",
            "True\n",
            "False\n",
            "False\n"
          ]
        }
      ]
    },
    {
      "cell_type": "code",
      "source": [
        "t1=(11,22,33,44,55)\n",
        "print(t1)\n",
        "for x in t1:\n",
        "  if x%2==0:\n",
        "    print(x, \"is even\")\n",
        "  else:\n",
        "    print(x, \"is odd\")"
      ],
      "metadata": {
        "colab": {
          "base_uri": "https://localhost:8080/"
        },
        "id": "h311671Y3HAu",
        "outputId": "8724081c-4930-4c85-ff5d-7ed308ee5d58"
      },
      "execution_count": null,
      "outputs": [
        {
          "output_type": "stream",
          "name": "stdout",
          "text": [
            "(11, 22, 33, 44, 55)\n",
            "11 is odd\n",
            "22 is even\n",
            "33 is odd\n",
            "44 is even\n",
            "55 is odd\n"
          ]
        }
      ]
    },
    {
      "cell_type": "code",
      "source": [
        "list1=[11,22,33]\n",
        "list1[0]=55\n",
        "print(list1)\n",
        "\n",
        "tuple1=(11,22,33)\n",
        "# tuple1[0]=55 #cannot modify values in tuple\n",
        "print(tuple1)"
      ],
      "metadata": {
        "colab": {
          "base_uri": "https://localhost:8080/"
        },
        "id": "PObACivO35eV",
        "outputId": "4697999a-98c2-45de-a6cf-6aeb12697756"
      },
      "execution_count": null,
      "outputs": [
        {
          "output_type": "stream",
          "name": "stdout",
          "text": [
            "[55, 22, 33]\n",
            "(11, 22, 33)\n"
          ]
        }
      ]
    },
    {
      "cell_type": "code",
      "source": [
        "#dictionary\n",
        "d1={11:\"ram\",22:\"mohan\",35:\"raj\",11:\"simran\",67:\"simran\"}\n",
        "print(d1)"
      ],
      "metadata": {
        "colab": {
          "base_uri": "https://localhost:8080/"
        },
        "id": "Iugprq1-3TWw",
        "outputId": "81363c20-0d4b-48d8-9f30-1227ea0ffa44"
      },
      "execution_count": null,
      "outputs": [
        {
          "output_type": "stream",
          "name": "stdout",
          "text": [
            "{11: 'simran', 22: 'mohan', 35: 'raj', 67: 'simran'}\n"
          ]
        }
      ]
    },
    {
      "cell_type": "code",
      "source": [
        "d1={11:\"ram\",22:\"mohan\",35:\"raj\",55:\"simran\",67:\"anjli\"}\n",
        "\n",
        "for k,v in d1.items():\n",
        "  print(k,v)"
      ],
      "metadata": {
        "colab": {
          "base_uri": "https://localhost:8080/"
        },
        "id": "C4ciUFoN3w1t",
        "outputId": "d0d09260-8f30-4b85-d7b6-4ffb3a7f2c7a"
      },
      "execution_count": null,
      "outputs": [
        {
          "output_type": "stream",
          "name": "stdout",
          "text": [
            "11 ram\n",
            "22 mohan\n",
            "35 raj\n",
            "55 simran\n",
            "67 anjli\n"
          ]
        }
      ]
    },
    {
      "cell_type": "code",
      "source": [
        "d1={11:\"ram\",22:\"mohan\",35:\"raj\",55:\"simran\",67:\"anjli\"}\n",
        "no=int(input(\"Enter rollno :\"))\n",
        "for k,v in d1.items():\n",
        "  if k>no:\n",
        "    print(k,v)"
      ],
      "metadata": {
        "colab": {
          "base_uri": "https://localhost:8080/"
        },
        "id": "PjlU3UpS4U9e",
        "outputId": "955ec1ea-61b6-4737-8eef-fc483fc0c5dc"
      },
      "execution_count": null,
      "outputs": [
        {
          "output_type": "stream",
          "name": "stdout",
          "text": [
            "Enter rollno :22\n",
            "35 raj\n",
            "55 simran\n",
            "67 anjli\n"
          ]
        }
      ]
    },
    {
      "cell_type": "code",
      "source": [
        "e1={11:20000,12:30000,14:12000,15:22000,16:9000,17:18000,18:25000,19:7000}\n",
        "\n",
        "print(e1)\n",
        "\n",
        "rollNo = int(input(\"Enter roll no: \"))\n",
        "for k,v in e1.items():\n",
        "  if k==rollNo:\n",
        "    print(k,v)\n",
        "\n",
        "salary = int(input(\"Enter salary: \"))\n",
        "for k,v in e1.items():\n",
        "  if v>salary:\n",
        "    print(k,v)"
      ],
      "metadata": {
        "colab": {
          "base_uri": "https://localhost:8080/"
        },
        "id": "FmgHmzGZ4yQ5",
        "outputId": "0f43b644-7200-4f1e-ed6d-8b228c59ed55"
      },
      "execution_count": null,
      "outputs": [
        {
          "output_type": "stream",
          "name": "stdout",
          "text": [
            "{11: 20000, 12: 30000, 14: 12000, 15: 22000, 16: 9000, 17: 18000, 18: 25000, 19: 7000}\n",
            "Enter roll no: 15\n",
            "15 22000\n",
            "Enter salary: 10000\n",
            "11 20000\n",
            "12 30000\n",
            "14 12000\n",
            "15 22000\n",
            "17 18000\n",
            "18 25000\n"
          ]
        }
      ]
    },
    {
      "cell_type": "code",
      "source": [
        "#function\n",
        "def add():\n",
        "  a=int(input(\"Enter no1: \"))\n",
        "  b=int(input(\"Enter no2: \"))\n",
        "  print(\"Add = \",a+b)\n",
        "\n",
        "def posneg():\n",
        "  a=int(input(\"Enter no: \"))\n",
        "  if a>0:\n",
        "    print(\"Number is positive\")\n",
        "  else:\n",
        "    print(\"Number is negative\")\n",
        "\n",
        "add()\n",
        "posneg()"
      ],
      "metadata": {
        "colab": {
          "base_uri": "https://localhost:8080/"
        },
        "id": "f_YhLiX67l3m",
        "outputId": "a65a9d76-140b-4a62-a7eb-6197944d04c0"
      },
      "execution_count": null,
      "outputs": [
        {
          "output_type": "stream",
          "name": "stdout",
          "text": [
            "Enter no1: 12\n",
            "Enter no2: 13\n",
            "Add =  25\n",
            "Enter no: 1\n",
            "Number is positive\n"
          ]
        }
      ]
    },
    {
      "cell_type": "code",
      "source": [
        "def table():\n",
        "  a=int(input(\"Enter no: \"))\n",
        "\n",
        "  for i in range(1,11):\n",
        "    print(a,\"x\",i,\"=\",a*i)\n",
        "\n",
        "def power():\n",
        "  b = int(input(\"Enter base: \"))\n",
        "  c = int(input(\"Enter power: \"))\n",
        "  print(b**c)\n",
        "\n",
        "table()\n",
        "power()"
      ],
      "metadata": {
        "colab": {
          "base_uri": "https://localhost:8080/"
        },
        "id": "tCPjz78s8Hkn",
        "outputId": "7ae0765f-11bc-436a-bfa1-7cc0479c9a1e"
      },
      "execution_count": null,
      "outputs": [
        {
          "output_type": "stream",
          "name": "stdout",
          "text": [
            "Enter no: 5\n",
            "5 x 1 = 5\n",
            "5 x 2 = 10\n",
            "5 x 3 = 15\n",
            "5 x 4 = 20\n",
            "5 x 5 = 25\n",
            "5 x 6 = 30\n",
            "5 x 7 = 35\n",
            "5 x 8 = 40\n",
            "5 x 9 = 45\n",
            "5 x 10 = 50\n",
            "Enter base: 2\n",
            "Enter power: 3\n",
            "8\n"
          ]
        }
      ]
    },
    {
      "cell_type": "code",
      "source": [
        "def add(a,b,c,d=0):\n",
        "  print(\"Add = \",a+b+c+d)\n",
        "\n",
        "add(1,2,3)\n",
        "add(1,2,3,4)"
      ],
      "metadata": {
        "colab": {
          "base_uri": "https://localhost:8080/"
        },
        "id": "rPwv4PL0_ZaJ",
        "outputId": "f8a45d27-823c-4fa5-e571-d4d39f4085f7"
      },
      "execution_count": null,
      "outputs": [
        {
          "output_type": "stream",
          "name": "stdout",
          "text": [
            "Add =  6\n",
            "Add =  10\n"
          ]
        }
      ]
    },
    {
      "cell_type": "code",
      "source": [
        "def pw(x,y=2):\n",
        "  print(x**y)\n",
        "pw(7)\n",
        "pw(2,5)"
      ],
      "metadata": {
        "colab": {
          "base_uri": "https://localhost:8080/"
        },
        "id": "lLhFmhfBAHTC",
        "outputId": "57c2fba8-b825-4943-f32f-2d41cb1c84ca"
      },
      "execution_count": null,
      "outputs": [
        {
          "output_type": "stream",
          "name": "stdout",
          "text": [
            "49\n",
            "32\n"
          ]
        }
      ]
    },
    {
      "cell_type": "code",
      "source": [
        "def pdata(a,b=\"*\"):\n",
        "  print(a*b)\n",
        "pdata(5)\n",
        "pdata(30,\"z\")"
      ],
      "metadata": {
        "colab": {
          "base_uri": "https://localhost:8080/"
        },
        "id": "DY_aMh0gAs41",
        "outputId": "05931993-8078-4c58-96b9-3d2a21eeecf1"
      },
      "execution_count": null,
      "outputs": [
        {
          "output_type": "stream",
          "name": "stdout",
          "text": [
            "*****\n",
            "zzzzzzzzzzzzzzzzzzzzzzzzzzzzzz\n"
          ]
        }
      ]
    },
    {
      "cell_type": "code",
      "source": [
        "def pdata(a,b=9):\n",
        "  print(a*b)\n",
        "pdata(\"*\")\n",
        "pdata(\"m\",35)"
      ],
      "metadata": {
        "colab": {
          "base_uri": "https://localhost:8080/"
        },
        "id": "AD-boBB6DMI6",
        "outputId": "a452727a-3359-4cfe-d236-dd219ce929d7"
      },
      "execution_count": null,
      "outputs": [
        {
          "output_type": "stream",
          "name": "stdout",
          "text": [
            "*********\n",
            "mmmmmmmmmmmmmmmmmmmmmmmmmmmmmmmmmmm\n"
          ]
        }
      ]
    },
    {
      "cell_type": "code",
      "source": [
        "import random\n",
        "y=random.randint(1,30)\n",
        "print(y)"
      ],
      "metadata": {
        "colab": {
          "base_uri": "https://localhost:8080/"
        },
        "id": "zwhwshsiEpY4",
        "outputId": "aff67c03-ec61-4c07-a14a-cdef87e386dc"
      },
      "execution_count": null,
      "outputs": [
        {
          "output_type": "stream",
          "name": "stdout",
          "text": [
            "13\n"
          ]
        }
      ]
    },
    {
      "cell_type": "code",
      "source": [
        "import random\n",
        "correct = 0\n",
        "wrong = 0\n",
        "for i in range(1,6):\n",
        "\n",
        "  x=random.randint(1,30)\n",
        "  y=random.randint(1,30)\n",
        "  print(\"No1 = \",x,\"No2 = \",y)\n",
        "  n=int(input(\"Enter Addition = \"))\n",
        "\n",
        "  if n==x+y:\n",
        "    correct+=1\n",
        "  else:\n",
        "    wrong+=1\n",
        "print(\"Total Correct = \",correct,\"\\nTotal InCorrect = \",wrong)"
      ],
      "metadata": {
        "colab": {
          "base_uri": "https://localhost:8080/"
        },
        "id": "I31oFjAoFKNM",
        "outputId": "7e3167f4-4e5d-4d06-b142-21c21ddb58bd"
      },
      "execution_count": null,
      "outputs": [
        {
          "output_type": "stream",
          "name": "stdout",
          "text": [
            "No1 =  29 No2 =  22\n",
            "Enter Addition = 51\n",
            "No1 =  13 No2 =  12\n",
            "Enter Addition = 25\n",
            "No1 =  22 No2 =  22\n",
            "Enter Addition = 44\n",
            "No1 =  25 No2 =  10\n",
            "Enter Addition = 35\n",
            "No1 =  1 No2 =  9\n",
            "Enter Addition = 10\n",
            "Total Correct =  5 \n",
            "Total InCorrect =  0\n"
          ]
        }
      ]
    },
    {
      "cell_type": "code",
      "source": [
        "f1=open(\"/content/yash.txt\",\"r\")\n",
        "\n",
        "while True:\n",
        "  ch = f1.read(1)\n",
        "  if not ch:\n",
        "    break\n",
        "  print(ch)\n",
        "f1.close()"
      ],
      "metadata": {
        "colab": {
          "base_uri": "https://localhost:8080/"
        },
        "id": "ru-fQ5-xJZA_",
        "outputId": "11d4c75b-4c81-4d70-b6d1-da7e57367d20"
      },
      "execution_count": null,
      "outputs": [
        {
          "output_type": "stream",
          "name": "stdout",
          "text": [
            "h\n",
            "e\n",
            "l\n",
            "l\n",
            "o\n",
            " \n",
            "y\n",
            "a\n",
            "s\n",
            "h\n",
            "\n",
            "\n",
            "n\n",
            "i\n",
            "c\n",
            "e\n",
            " \n",
            "t\n",
            "o\n",
            " \n",
            "s\n",
            "e\n",
            "e\n",
            " \n",
            "y\n",
            "o\n",
            "u\n",
            "r\n",
            " \n",
            "c\n",
            "o\n",
            "d\n",
            "e\n",
            " \n",
            "w\n",
            "o\n",
            "r\n",
            "k\n",
            "e\n",
            "d\n"
          ]
        }
      ]
    },
    {
      "cell_type": "code",
      "source": [
        "f1 = open(\"/content/yash.txt\", \"r\")\n",
        "vowels = 0\n",
        "while True:\n",
        "  ch = f1.read(1)\n",
        "  if not ch:\n",
        "    break\n",
        "  if ch in \"aeiouAEIOU\":\n",
        "    vowels += 1\n",
        "print(\"Number of vowels = \",vowels)\n",
        "f1.close()"
      ],
      "metadata": {
        "colab": {
          "base_uri": "https://localhost:8080/"
        },
        "id": "JEhnYwHaMvTY",
        "outputId": "25383c84-aad1-460c-da7e-d1ad0bec7779"
      },
      "execution_count": null,
      "outputs": [
        {
          "output_type": "stream",
          "name": "stdout",
          "text": [
            "Number of vowels =  14\n"
          ]
        }
      ]
    },
    {
      "cell_type": "code",
      "source": [
        "f1 = open(\"/content/yash.txt\", \"r\")\n",
        "while True:\n",
        "  ch = f1.read(1)\n",
        "  if not ch:\n",
        "    break\n",
        "  if ch == \"a\" or ch==\"e\" or ch==\"i\" or ch==\"o\" or ch==\"u\":\n",
        "    print(ch)\n",
        "f1.close()"
      ],
      "metadata": {
        "colab": {
          "base_uri": "https://localhost:8080/"
        },
        "id": "cqa4OPfYP5zc",
        "outputId": "78e1e16a-ff6a-407b-de0f-caefa0568628"
      },
      "execution_count": null,
      "outputs": [
        {
          "output_type": "stream",
          "name": "stdout",
          "text": [
            "e\n",
            "o\n",
            "a\n",
            "i\n",
            "e\n",
            "o\n",
            "e\n",
            "e\n",
            "o\n",
            "u\n",
            "o\n",
            "e\n",
            "o\n",
            "e\n"
          ]
        }
      ]
    },
    {
      "cell_type": "code",
      "source": [
        "f1 = open(\"/content/yash.txt\", \"r\")\n",
        "\n",
        "while True:\n",
        "  ch = f1.read(1)\n",
        "  if not ch:\n",
        "    break\n",
        "  if ch == \"a\" or ch==\"e\" or ch==\"i\" or ch==\"o\" or ch==\"u\":\n",
        "    print(\"7\")\n",
        "  else:\n",
        "    print(ch)\n",
        "f1.close()"
      ],
      "metadata": {
        "colab": {
          "base_uri": "https://localhost:8080/"
        },
        "id": "j8Wr9r4iPNYs",
        "outputId": "f979fe52-5da7-499b-8770-1e99cfb40cd5"
      },
      "execution_count": null,
      "outputs": [
        {
          "output_type": "stream",
          "name": "stdout",
          "text": [
            "r\n",
            "7\n",
            "j\n",
            "7\n"
          ]
        }
      ]
    },
    {
      "cell_type": "code",
      "source": [
        "f1 = open(\"/content/yash.txt\", \"r\")\n",
        "while True:\n",
        "  ch=f1.read(1)\n",
        "  if not ch:\n",
        "    break\n",
        "  if ch==\" \":\n",
        "    # ch=ch.replace(\" \",\"\")\n",
        "    c=c+1\n",
        "    if c==1:\n",
        "      print(ch,end=\"\")\n",
        "    else:\n",
        "      print(ch,end=\"\")\n",
        "      c=0\n",
        "f1.close()"
      ],
      "metadata": {
        "id": "vH1M-M4RWc7u"
      },
      "execution_count": null,
      "outputs": []
    },
    {
      "cell_type": "code",
      "source": [
        "#write a code which convert first character in upper case after blank space.\n",
        "f1 = open(\"/content/yash.txt\", \"r\")\n",
        "ch1=\"\"\n",
        "length = 0\n",
        "while True:\n",
        "  ch=f1.read(1)\n",
        "  if not ch:\n",
        "    break\n",
        "  if ch==\" \":\n",
        "    ch1+=ch\n",
        "    length=len(ch1)\n",
        "  else:\n",
        "    ch1+=ch\n",
        "\n",
        "print(ch1[length].upper())\n",
        "f1.close()\n",
        "\n",
        "\n",
        "\n",
        "\n",
        "# ch1 =\"\"\n",
        "# while True:\n",
        "#   ch=f1.read(1)\n",
        "#   if not ch:\n",
        "#     break\n",
        "#   else:\n",
        "#     ch1+=ch\n",
        "#     if ch1[-1]==\" \":\n",
        "#       ch1+=ch.upper()\n",
        "#   print(ch1)\n",
        "\n",
        "\n",
        "\n",
        "#   elif ch==\" \"+ch:\n",
        "#     print(\" \")\n",
        "#   else:\n",
        "#     print(ch)\n",
        "\n",
        "# def upcase(ch):\n",
        "#   return ch.upper()\n",
        "# f1.close()"
      ],
      "metadata": {
        "colab": {
          "base_uri": "https://localhost:8080/"
        },
        "id": "GCWCCUb6Rvki",
        "outputId": "3c8c5667-27a6-4193-f548-1302a96df5e1"
      },
      "execution_count": 86,
      "outputs": [
        {
          "output_type": "stream",
          "name": "stdout",
          "text": [
            "S\n"
          ]
        }
      ]
    },
    {
      "cell_type": "code",
      "source": [
        "y = \"yash \"\n",
        "print(len(y))"
      ],
      "metadata": {
        "colab": {
          "base_uri": "https://localhost:8080/"
        },
        "id": "j7qIYKP_c6fN",
        "outputId": "9324d4ee-78ca-4b02-e67c-9aa56721d4a5"
      },
      "execution_count": null,
      "outputs": [
        {
          "output_type": "stream",
          "name": "stdout",
          "text": [
            "5\n"
          ]
        }
      ]
    },
    {
      "cell_type": "markdown",
      "source": [
        "Part of Textual Data -Elements of Text\n",
        "\n",
        "1: Hierarchy of Text- No of words, no of alphabets\n",
        "\n",
        "2: Tokens -words\n",
        "\n",
        "\n",
        "3: vocabulary-noun, pronouns\n",
        "\n",
        "4: punctuation\n",
        "\n",
        "5: part of speech\n",
        "\n",
        "6: root of word\n",
        "\n",
        "7: base of word\n",
        "\n",
        "8: stop word\n",
        "\n",
        "9: prefix, suffix, infix, exception"
      ],
      "metadata": {
        "id": "W2c8Z1ewaIcJ"
      }
    }
  ]
}