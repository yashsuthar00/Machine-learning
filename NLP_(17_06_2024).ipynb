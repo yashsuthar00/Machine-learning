{
  "nbformat": 4,
  "nbformat_minor": 0,
  "metadata": {
    "colab": {
      "provenance": [],
      "authorship_tag": "ABX9TyPPHVqv/RYmVS5Zq+ibXrZq",
      "include_colab_link": true
    },
    "kernelspec": {
      "name": "python3",
      "display_name": "Python 3"
    },
    "language_info": {
      "name": "python"
    }
  },
  "cells": [
    {
      "cell_type": "markdown",
      "metadata": {
        "id": "view-in-github",
        "colab_type": "text"
      },
      "source": [
        "<a href=\"https://colab.research.google.com/github/yashsuthar00/Machine-learning/blob/main/NLP_(17_06_2024).ipynb\" target=\"_parent\"><img src=\"https://colab.research.google.com/assets/colab-badge.svg\" alt=\"Open In Colab\"/></a>"
      ]
    },
    {
      "cell_type": "code",
      "execution_count": null,
      "metadata": {
        "colab": {
          "base_uri": "https://localhost:8080/"
        },
        "id": "mL63O17BeO1R",
        "outputId": "55600fad-c428-4af3-ec75-fa9c9c4d319f"
      },
      "outputs": [
        {
          "output_type": "stream",
          "name": "stdout",
          "text": [
            "done all\n"
          ]
        }
      ],
      "source": [
        "import nltk\n",
        "import spacy\n",
        "import numpy as np\n",
        "import pandas as pd\n",
        "import matplotlib.pyplot as plt\n",
        "print(\"done all\")"
      ]
    },
    {
      "cell_type": "markdown",
      "source": [
        "tokenization :---Breaking a sentence into individual words or pieces, like cutting a cake into slices.\n",
        "\n",
        "Stemming and Lemmatization :--Changing words to their base form, like turning \"running\" into \"run\" so we know they mean the same thing.\n",
        "\n",
        "\n",
        "Stop Words :--Removing common words like \"and\" and \"the\" that don't add much meaning to a sentence.\n",
        "\n",
        "Vocabulary and Matching:--Keeping a list of all the words we know and finding words that match in different sentences.\n",
        "\n",
        "Parts of Speech Tagging:--Labelling words as nouns, verbs, or adjectives, like sorting toys into different bins.\n",
        "\n",
        "Named Entity Recognition:--Finding and naming important words in a sentence, like recognizing \"Harry Potter\" as a person.\n"
      ],
      "metadata": {
        "id": "lggSrCulhQSW"
      }
    },
    {
      "cell_type": "code",
      "source": [
        "import spacy\n",
        "nlp = spacy.load(\"en_core_web_sm\")\n",
        "string = \"Hey Simran I am with you for the entire life !\"\n",
        "print(string)\n",
        "\n",
        "data = nlp(string)\n",
        "\n",
        "#print tokenized words\n",
        "for token in data:\n",
        "    print(token.text, end=\" | \")"
      ],
      "metadata": {
        "colab": {
          "base_uri": "https://localhost:8080/"
        },
        "id": "wpVFStO2hakf",
        "outputId": "68fa1092-7369-420f-a20d-16d23d2432ba"
      },
      "execution_count": null,
      "outputs": [
        {
          "output_type": "stream",
          "name": "stdout",
          "text": [
            "Hey Simran I am with you for the entire life !\n",
            "Hey | Simran | I | am | with | you | for | the | entire | life | ! | "
          ]
        }
      ]
    },
    {
      "cell_type": "code",
      "source": [
        "import spacy\n",
        "nlp = spacy.load(\"en_core_web_sm\")\n",
        "data = nlp(u\"Simran I am here to help! call me, msg me or email me\")\n",
        "for token in data:\n",
        "    print(token)"
      ],
      "metadata": {
        "colab": {
          "base_uri": "https://localhost:8080/"
        },
        "id": "l2o4Bp0siYrB",
        "outputId": "1440d776-422e-4a06-9cc8-30d76cbb4a63"
      },
      "execution_count": null,
      "outputs": [
        {
          "output_type": "stream",
          "name": "stdout",
          "text": [
            "Simran\n",
            "I\n",
            "am\n",
            "here\n",
            "to\n",
            "help\n",
            "!\n",
            "call\n",
            "me\n",
            ",\n",
            "msg\n",
            "me\n",
            "or\n",
            "email\n",
            "me\n"
          ]
        }
      ]
    },
    {
      "cell_type": "code",
      "source": [
        "import spacy\n",
        "nlp=spacy.load(\"en_core_web_sm\")\n",
        "data=nlp(u\"T have total $10.20 and I am going to buy $2.30 choco\")\n",
        "for token in data:\n",
        "  print(token)\n",
        "print(len(data))"
      ],
      "metadata": {
        "colab": {
          "base_uri": "https://localhost:8080/"
        },
        "id": "yGiS-nyrk-Lq",
        "outputId": "db105a22-67d3-4381-856c-10ea91e8e13e"
      },
      "execution_count": null,
      "outputs": [
        {
          "output_type": "stream",
          "name": "stdout",
          "text": [
            "T\n",
            "have\n",
            "total\n",
            "$\n",
            "10.20\n",
            "and\n",
            "I\n",
            "am\n",
            "going\n",
            "to\n",
            "buy\n",
            "$\n",
            "2.30\n",
            "choco\n",
            "14\n"
          ]
        }
      ]
    },
    {
      "cell_type": "code",
      "source": [
        "import spacy\n",
        "nlp=spacy.load(\"en_core_web_sm\")\n",
        "data=nlp(u\"T have total $10.20 and I am going to buy $2.30 choco\")\n",
        "print(data[2])\n",
        "print(data[2:5])"
      ],
      "metadata": {
        "colab": {
          "base_uri": "https://localhost:8080/"
        },
        "id": "PkaFbHkflMgx",
        "outputId": "f3de12d6-ca40-4be0-c2df-649ebaef55d8"
      },
      "execution_count": null,
      "outputs": [
        {
          "output_type": "stream",
          "name": "stdout",
          "text": [
            "total\n",
            "total $10.20\n"
          ]
        }
      ]
    },
    {
      "cell_type": "code",
      "source": [
        "import spacy\n",
        "nlp=spacy.load(\"en_core_web_sm\")\n",
        "data=nlp(u\"Apple to built a India factory for $6 million\")\n",
        "print(\"Detailed Token Label Information\")\n",
        "\n",
        "for token in data:\n",
        "  print(token.text + \" | \" + token.ent_type_ + \" | \" + str(spacy.explain(token.ent_type_)))\n"
      ],
      "metadata": {
        "colab": {
          "base_uri": "https://localhost:8080/"
        },
        "id": "L_eMR8ual6O4",
        "outputId": "7f981fe1-7171-4a3f-d6e3-0b128fbd877f"
      },
      "execution_count": null,
      "outputs": [
        {
          "output_type": "stream",
          "name": "stdout",
          "text": [
            "Detailed Token Label Information\n",
            "Apple | ORG | Companies, agencies, institutions, etc.\n",
            "to |  | None\n",
            "built |  | None\n",
            "a |  | None\n",
            "India | GPE | Countries, cities, states\n",
            "factory |  | None\n",
            "for |  | None\n",
            "$ | MONEY | Monetary values, including unit\n",
            "6 | MONEY | Monetary values, including unit\n",
            "million | MONEY | Monetary values, including unit\n"
          ]
        },
        {
          "output_type": "stream",
          "name": "stderr",
          "text": [
            "/usr/local/lib/python3.10/dist-packages/spacy/glossary.py:20: UserWarning: [W118] Term '' not found in glossary. It may however be explained in documentation for the corpora used to train the language. Please check `nlp.meta[\"sources\"]` for any relevant links.\n",
            "  warnings.warn(Warnings.W118.format(term=term))\n"
          ]
        }
      ]
    },
    {
      "cell_type": "code",
      "source": [
        "import spacy\n",
        "nlp=spacy.load(\"en_core_web_sm\")\n",
        "data=nlp(u\"Apple to built a India factory for $6 million\")\n",
        "print(\"Detailed Token Label Information\")\n",
        "\n",
        "for token in data.ents:\n",
        "  print(token.text + \" | \" + token.label_ + \" | \" + str(spacy.explain(token.label_)))\n"
      ],
      "metadata": {
        "colab": {
          "base_uri": "https://localhost:8080/"
        },
        "id": "mx4iGyPcnLgU",
        "outputId": "2cab04bb-c180-4dec-a49d-b5031509273a"
      },
      "execution_count": null,
      "outputs": [
        {
          "output_type": "stream",
          "name": "stdout",
          "text": [
            "Detailed Token Label Information\n",
            "Apple | ORG | Companies, agencies, institutions, etc.\n",
            "India | GPE | Countries, cities, states\n",
            "$6 million | MONEY | Monetary values, including unit\n"
          ]
        }
      ]
    },
    {
      "cell_type": "code",
      "source": [
        "import nltk\n",
        "\n",
        "from nltk.stem import PorterStemmer\n",
        "#Initialize the Porter Stemmer\n",
        "stemmer = PorterStemmer()\n",
        "\n",
        "#List of words to be stemmed\n",
        "\n",
        "words = [\"running\", \"jumps\", \"jumped\", \"running\", \"files\", \"happily\", \"better\", \"betterment\"]\n",
        "\n",
        "for word in words:\n",
        "    print(word + \" == \" + stemmer.stem(word))"
      ],
      "metadata": {
        "colab": {
          "base_uri": "https://localhost:8080/"
        },
        "id": "ScNY16X-n9hh",
        "outputId": "016e998c-b251-4893-c1e1-d993ef0f6f3a"
      },
      "execution_count": null,
      "outputs": [
        {
          "output_type": "stream",
          "name": "stdout",
          "text": [
            "running == run\n",
            "jumps == jump\n",
            "jumped == jump\n",
            "running == run\n",
            "files == file\n",
            "happily == happili\n",
            "better == better\n",
            "betterment == better\n"
          ]
        }
      ]
    },
    {
      "cell_type": "code",
      "source": [
        "from nltk.stem.snowball import SnowballStemmer\n",
        "\n",
        "# Create a SnowballStemmer object for English\n",
        "snowball_stem = SnowballStemmer(\"english\")\n",
        "\n",
        "# Example words\n",
        "words = [\"running\", \"happiness\", \"running\", \"jumps\", \"easily\", \"fairly\"]\n",
        "\n",
        "for words in words:\n",
        "  print(words+ \" -- \" + snowball_stem.stem(words))"
      ],
      "metadata": {
        "colab": {
          "base_uri": "https://localhost:8080/"
        },
        "id": "X7duW6YtpEbd",
        "outputId": "15a188a1-57cd-40a7-a4ce-89803e85a494"
      },
      "execution_count": null,
      "outputs": [
        {
          "output_type": "stream",
          "name": "stdout",
          "text": [
            "running -- run\n",
            "happiness -- happi\n",
            "running -- run\n",
            "jumps -- jump\n",
            "easily -- easili\n",
            "fairly -- fair\n"
          ]
        }
      ]
    },
    {
      "cell_type": "code",
      "source": [
        "from nltk.stem.snowball import SnowballStemmer\n",
        "\n",
        "from nltk.stem import PorterStemmer\n",
        "\n",
        "# Initialize the Porter Stemmer\n",
        "porter_stemmer = PorterStemmer()\n",
        "\n",
        "# Create a snowballStemmer object\n",
        "snowball_stem = SnowballStemmer(\"english\")\n",
        "\n",
        "words = [\"consolingly\"]\n",
        "\n",
        "\n",
        "for word in words:\n",
        "  print(word + \" -- \" + porter_stemmer.stem(word))\n",
        "\n",
        "for word in words:\n",
        "  print(word + \" -- \" + snowball_stem.stem(word))"
      ],
      "metadata": {
        "colab": {
          "base_uri": "https://localhost:8080/"
        },
        "id": "4z3ceMtuqODv",
        "outputId": "6b20b64b-e7f0-4077-97a6-01504842c4ed"
      },
      "execution_count": null,
      "outputs": [
        {
          "output_type": "stream",
          "name": "stdout",
          "text": [
            "consolingly -- consolingli\n",
            "consolingly -- consol\n"
          ]
        }
      ]
    },
    {
      "cell_type": "code",
      "source": [
        "import spacy\n",
        "nlp = spacy.load(\"en_core_web_sm\")\n",
        "doc1 = nlp(\"The striped bats are hanging on their feet for best\")\n",
        "for token in doc1:\n",
        "  print(token.text, '\\t', token.lemma_)"
      ],
      "metadata": {
        "colab": {
          "base_uri": "https://localhost:8080/"
        },
        "id": "2ID_rrH8rn_A",
        "outputId": "81280482-ce9a-4ba9-edec-b21bf729e543"
      },
      "execution_count": null,
      "outputs": [
        {
          "output_type": "stream",
          "name": "stdout",
          "text": [
            "The \t the\n",
            "striped \t stripe\n",
            "bats \t bat\n",
            "are \t be\n",
            "hanging \t hang\n",
            "on \t on\n",
            "their \t their\n",
            "feet \t foot\n",
            "for \t for\n",
            "best \t good\n"
          ]
        }
      ]
    },
    {
      "cell_type": "code",
      "source": [
        "import spacy\n",
        "nlp = spacy.load(\"en_core_web_sm\")\n",
        "\n",
        "from nltk.stem.porter import PorterStemmer\n",
        "p_stemmer = PorterStemmer()\n",
        "\n",
        "\n",
        "s1 = \"The striped bats are hanging on their feet for best\"\n",
        "for word in s1.split():\n",
        "  print(word + ' ------ ' + p_stemmer.stem(word))"
      ],
      "metadata": {
        "colab": {
          "base_uri": "https://localhost:8080/"
        },
        "id": "VGq9iPOhsWZ9",
        "outputId": "9206da76-9cc4-416e-ed57-7d05e4a31533"
      },
      "execution_count": null,
      "outputs": [
        {
          "output_type": "stream",
          "name": "stdout",
          "text": [
            "The ------ the\n",
            "striped ------ stripe\n",
            "bats ------ bat\n",
            "are ------ are\n",
            "hanging ------ hang\n",
            "on ------ on\n",
            "their ------ their\n",
            "feet ------ feet\n",
            "for ------ for\n",
            "best ------ best\n"
          ]
        }
      ]
    },
    {
      "cell_type": "code",
      "source": [
        "import spacy\n",
        "nlp = spacy.load('en_core_web_sm')\n",
        "\n",
        "import nltk\n",
        "nltk.download('stopwords')\n",
        "\n",
        "print(nlp.Defaults.stop_words)\n",
        "\n",
        "print(len(nlp.Defaults.stop_words))"
      ],
      "metadata": {
        "colab": {
          "base_uri": "https://localhost:8080/"
        },
        "id": "W3wubkrwuUj9",
        "outputId": "5ad0b295-d1f0-4b37-e729-ad5547cab0e2"
      },
      "execution_count": null,
      "outputs": [
        {
          "output_type": "stream",
          "name": "stdout",
          "text": [
            "{'not', 'five', 'may', 'but', 'seeming', 'thus', 'so', 'always', 'various', 'least', 'upon', 'every', 'nowhere', \"n't\", 'onto', 'hereafter', 'on', 'more', 'this', 'keep', 'up', 'others', 'they', 'front', 'will', \"'d\", 'a', 'very', 'himself', 'does', 'there', 'all', 'perhaps', 'myself', 'another', 'them', 'formerly', 'per', 'have', 'nine', 'become', 'everywhere', 'therefore', 'hundred', 'above', 'whatever', 'her', 'still', 'either', 'behind', 'i', 'rather', 'under', 'by', 'nor', 'further', 'do', 'elsewhere', 'while', 'nothing', 'and', '‘m', 'anything', 'whom', 'was', 'move', 'four', 'last', 'as', 'to', 'whether', 'with', 'several', 'ten', 'many', 'are', 'an', 'latter', 'those', 'already', 'herein', 'seems', 'doing', \"'re\", 'side', 'except', 'hereupon', 'off', 'since', 'among', 'name', 'him', 'did', 'empty', 'after', 'first', 'full', 'own', 'thence', 'whereas', 'that', 'becoming', 'beforehand', 'thru', 'were', 'beyond', 'of', 'any', 'too', 'toward', '‘s', \"'ll\", 'then', 'which', 'go', 'herself', 'mine', 'thereby', 'forty', 'down', 'could', 'you', 'sometime', 'six', 'below', 'yet', 'n‘t', 'unless', 'once', 'alone', 'whence', 'see', 'ever', 'must', 'eight', 'somehow', 'someone', 'when', 'though', \"'m\", 'hence', 'using', \"'s\", 'yourselves', 'be', 're', 'former', 'give', 'indeed', 'done', 'whereby', 'if', 'how', 'into', 'whenever', 'again', 'noone', 'well', 'enough', 'along', 'throughout', 'might', 'has', 'via', 'nobody', 'here', 'used', 'what', 'ourselves', 'else', 'much', 'sometimes', 'amongst', 'eleven', 'whereafter', 'however', 'my', 'almost', 'being', 'never', 'both', '‘ll', 'within', 'thereafter', 'its', 'beside', 'why', 'even', '‘ve', '’m', 'themselves', 'our', 'she', 'became', 'it', 'without', 'who', 'had', 'everyone', '’d', 'around', 'or', 'yourself', 'wherever', 'otherwise', 'becomes', 'your', 'ca', 'we', 'his', 'these', 'twelve', 'me', 'moreover', 'most', 'please', 'n’t', 'been', 'three', 'their', 'am', 'sixty', 'other', 'only', 'say', 'twenty', 'everything', 'also', 'although', 'call', 'namely', 'nevertheless', 'about', '’re', 'make', 'back', 'wherein', 'anyone', 'together', 'seem', 'yours', 'no', 'next', 'somewhere', 'bottom', 'serious', 'therein', 'us', 'should', 'fifteen', 'just', 'over', 'part', 'due', 'such', 'until', 'itself', 'made', 'one', 'third', 'latterly', 'two', 'against', 'before', 'besides', '’ll', '’s', 'less', 'some', 'out', 'top', 'whose', 'regarding', '‘re', 'amount', 'the', 'each', '’ve', 'put', 'get', 'he', 'fifty', 'whither', 'from', 'would', 'across', 'same', 'mostly', 'can', 'whereupon', 'hers', 'cannot', 'between', 'neither', 'often', 'anywhere', 'now', 'than', 'for', 'is', 'few', \"'ve\", '‘d', 'really', 'something', 'anyhow', 'meanwhile', 'afterwards', 'seemed', 'show', 'hereby', 'whoever', 'in', 'through', 'during', 'at', 'none', 'take', 'whole', 'where', 'quite', 'anyway', 'thereupon', 'towards', 'because', 'ours'}\n",
            "326\n"
          ]
        },
        {
          "output_type": "stream",
          "name": "stderr",
          "text": [
            "[nltk_data] Downloading package stopwords to /root/nltk_data...\n",
            "[nltk_data]   Unzipping corpora/stopwords.zip.\n"
          ]
        }
      ]
    },
    {
      "cell_type": "code",
      "source": [
        "import spacy\n",
        "nlp = spacy.load('en_core_web_sm')\n",
        "print(\"Lenth before : \",len(nlp.Defaults.stop_words))\n",
        "print(nlp.vocab['finance'].is_stop)\n",
        "print(nlp.vocab['always'].is_stop)\n",
        "print(nlp.vocab['shyam'].is_stop)\n",
        "nlp.Defaults.stop_words.add('shyam')\n",
        "nlp.vocab['shyam'].is_stop = True\n",
        "print(\"Lenth after : \",len(nlp.Defaults.stop_words))\n",
        "print(nlp.vocab['shyam'].is_stop)"
      ],
      "metadata": {
        "colab": {
          "base_uri": "https://localhost:8080/"
        },
        "id": "ySDSwxatbmns",
        "outputId": "d4c0a087-32a7-4c43-e526-f59f00b7c655"
      },
      "execution_count": null,
      "outputs": [
        {
          "output_type": "stream",
          "name": "stdout",
          "text": [
            "Lenth before :  327\n",
            "False\n",
            "True\n",
            "True\n",
            "Lenth after :  327\n",
            "True\n"
          ]
        }
      ]
    },
    {
      "cell_type": "code",
      "source": [
        "import spacy\n",
        "nlp = spacy.load(\"en_core_web_sm\")\n",
        "\n",
        "doc = nlp(\"Apple is looking at buying U.K. startup for $1 billion\")\n",
        "\n",
        "\n",
        "for ent in doc.ents:\n",
        "  print(ent.text + \" = \" + ent.label_ + \" {\" + str(spacy.explain(ent.label_)) + \"}\")"
      ],
      "metadata": {
        "colab": {
          "base_uri": "https://localhost:8080/"
        },
        "id": "J4L7aWMFdAVh",
        "outputId": "12da4d80-1940-408d-a855-1f33ae4c7b7c"
      },
      "execution_count": null,
      "outputs": [
        {
          "output_type": "stream",
          "name": "stdout",
          "text": [
            "Apple = ORG {Companies, agencies, institutions, etc.}\n",
            "U.K. = GPE {Countries, cities, states}\n",
            "$1 billion = MONEY {Monetary values, including unit}\n"
          ]
        }
      ]
    },
    {
      "cell_type": "code",
      "source": [
        "import spacy\n",
        "\n",
        "nlp = spacy.load(\"en_core_web_sm\")\n",
        "doc = nlp(\"Can I Please borrow 500 dollars from Rahul to buy some Reliance Stock?\")\n",
        "\n",
        "for token in doc.ents:\n",
        "  print(ent.text + \" = \" + str(ent.start) + \" = \" + str(ent.end) + \" = \" + str(ent.start_char) + \" = \" + str(ent.end_char) + \" = \" + ent.label_)"
      ],
      "metadata": {
        "colab": {
          "base_uri": "https://localhost:8080/"
        },
        "id": "cgXnbWU6eZeE",
        "outputId": "f70420b6-b1a2-4abb-ecc4-3fade7556612"
      },
      "execution_count": null,
      "outputs": [
        {
          "output_type": "stream",
          "name": "stdout",
          "text": [
            "$1 billion = 8 = 11 = 44 = 54 = MONEY\n",
            "$1 billion = 8 = 11 = 44 = 54 = MONEY\n"
          ]
        }
      ]
    },
    {
      "cell_type": "code",
      "source": [
        "import spacy\n",
        "nlp = spacy.load(\"en_core_web_sm\")\n",
        "from spacy import displacy\n",
        "\n",
        "s1 = \"Apple is looking at buying U.K. startup for $1 billion. San Francisco considers banning sidewalk delivery robots. facebook is hiring a new vice president in U.S.\"\n",
        "doc1 = nlp(s1)\n",
        "displacy.render(docs = doc1, style=\"ent\", jupyter=True)"
      ],
      "metadata": {
        "colab": {
          "base_uri": "https://localhost:8080/",
          "height": 87
        },
        "id": "1PrgMIKJgIxW",
        "outputId": "6b0e1d32-cf26-41a1-82b9-93804a58bec3"
      },
      "execution_count": null,
      "outputs": [
        {
          "output_type": "display_data",
          "data": {
            "text/plain": [
              "<IPython.core.display.HTML object>"
            ],
            "text/html": [
              "<span class=\"tex2jax_ignore\"><div class=\"entities\" style=\"line-height: 2.5; direction: ltr\">\n",
              "<mark class=\"entity\" style=\"background: #7aecec; padding: 0.45em 0.6em; margin: 0 0.25em; line-height: 1; border-radius: 0.35em;\">\n",
              "    Apple\n",
              "    <span style=\"font-size: 0.8em; font-weight: bold; line-height: 1; border-radius: 0.35em; vertical-align: middle; margin-left: 0.5rem\">ORG</span>\n",
              "</mark>\n",
              " is looking at buying \n",
              "<mark class=\"entity\" style=\"background: #feca74; padding: 0.45em 0.6em; margin: 0 0.25em; line-height: 1; border-radius: 0.35em;\">\n",
              "    U.K.\n",
              "    <span style=\"font-size: 0.8em; font-weight: bold; line-height: 1; border-radius: 0.35em; vertical-align: middle; margin-left: 0.5rem\">GPE</span>\n",
              "</mark>\n",
              " startup for \n",
              "<mark class=\"entity\" style=\"background: #e4e7d2; padding: 0.45em 0.6em; margin: 0 0.25em; line-height: 1; border-radius: 0.35em;\">\n",
              "    $1 billion\n",
              "    <span style=\"font-size: 0.8em; font-weight: bold; line-height: 1; border-radius: 0.35em; vertical-align: middle; margin-left: 0.5rem\">MONEY</span>\n",
              "</mark>\n",
              ". \n",
              "<mark class=\"entity\" style=\"background: #feca74; padding: 0.45em 0.6em; margin: 0 0.25em; line-height: 1; border-radius: 0.35em;\">\n",
              "    San Francisco\n",
              "    <span style=\"font-size: 0.8em; font-weight: bold; line-height: 1; border-radius: 0.35em; vertical-align: middle; margin-left: 0.5rem\">GPE</span>\n",
              "</mark>\n",
              " considers banning sidewalk delivery robots. facebook is hiring a new vice president in \n",
              "<mark class=\"entity\" style=\"background: #feca74; padding: 0.45em 0.6em; margin: 0 0.25em; line-height: 1; border-radius: 0.35em;\">\n",
              "    U.S.\n",
              "    <span style=\"font-size: 0.8em; font-weight: bold; line-height: 1; border-radius: 0.35em; vertical-align: middle; margin-left: 0.5rem\">GPE</span>\n",
              "</mark>\n",
              "</div></span>"
            ]
          },
          "metadata": {}
        }
      ]
    },
    {
      "cell_type": "code",
      "source": [
        "import spacy\n",
        "\n",
        "#Load the spaCy model\n",
        "nlp = spacy.load(\"en_core_web_sm\")\n",
        "\n",
        "#Process a paragraph\n",
        "doc = nlp(\"This is first sentence. This is second sentence. This is third sentence\")\n",
        "\n",
        "#Print each sentence\n",
        "for sent in doc.sents:\n",
        "  print(sent.text)"
      ],
      "metadata": {
        "colab": {
          "base_uri": "https://localhost:8080/"
        },
        "id": "Aic_HyT0hWru",
        "outputId": "b9fe9b77-db50-41e3-fd9d-63c70ddc2d8d"
      },
      "execution_count": null,
      "outputs": [
        {
          "output_type": "stream",
          "name": "stdout",
          "text": [
            "This is first sentence.\n",
            "This is second sentence.\n",
            "This is third sentence\n"
          ]
        }
      ]
    },
    {
      "cell_type": "code",
      "source": [
        "import spacy\n",
        "\n",
        "#Load the spaCy model\n",
        "nlp = spacy.load(\"en_core_web_sm\")\n",
        "\n",
        "#Process a paragraph\n",
        "doc = nlp(\"This is first sentence. This is second sentence. This is third sentence\")\n",
        "\n",
        "doc_sents=[sent for sent in doc.sents]\n",
        "print(doc_sents)\n",
        "print(doc_sents[1])\n",
        "print(doc_sents[1].start, doc_sents[1].endm)"
      ],
      "metadata": {
        "colab": {
          "base_uri": "https://localhost:8080/"
        },
        "id": "65zI7dKCiALZ",
        "outputId": "248adb74-c8af-424c-bad9-d898ac6cf03d"
      },
      "execution_count": null,
      "outputs": [
        {
          "output_type": "stream",
          "name": "stdout",
          "text": [
            "[This is first sentence., This is second sentence., This is third sentence]\n",
            "This is second sentence.\n",
            "5 10\n"
          ]
        }
      ]
    },
    {
      "cell_type": "code",
      "source": [
        "import spacy\n",
        "\n",
        "#Load the spaCy model\n",
        "nlp = spacy.load(\"en_core_web_sm\")\n",
        "\n",
        "#Process a paragraph\n",
        "doc = nlp(\"This is first sentence. This is second sentence. This is third sentence\")\n",
        "\n",
        "for token in doc:\n",
        "  print(token.is_sent_start,' = ' + token.text)"
      ],
      "metadata": {
        "colab": {
          "base_uri": "https://localhost:8080/"
        },
        "id": "Ko3A04cCimVg",
        "outputId": "245d5730-baf3-4e1b-8876-0ef6e2ed3b6a"
      },
      "execution_count": null,
      "outputs": [
        {
          "output_type": "stream",
          "name": "stdout",
          "text": [
            "True  = This\n",
            "False  = is\n",
            "False  = first\n",
            "False  = sentence\n",
            "False  = .\n",
            "True  = This\n",
            "False  = is\n",
            "False  = second\n",
            "False  = sentence\n",
            "False  = .\n",
            "True  = This\n",
            "False  = is\n",
            "False  = third\n",
            "False  = sentence\n"
          ]
        }
      ]
    },
    {
      "cell_type": "code",
      "source": [
        "import spacy\n",
        "\n",
        "#Load the spaCy model\n",
        "nlp = spacy.load(\"en_core_web_sm\")\n",
        "\n",
        "#Process a paragraph\n",
        "doc = nlp(\"Apple is looking at buying U.K. startup for $1 billion\")\n",
        "doc = nlp(s1)\n",
        "\n",
        "for token in doc:\n",
        "  print(token.text, \" - \", token.pos_ , \" - \", token.tag_, \" - \" , spacy.explain(token.tag_))"
      ],
      "metadata": {
        "colab": {
          "base_uri": "https://localhost:8080/"
        },
        "id": "c_7RpaqijGvV",
        "outputId": "42b30b84-f585-411b-bc99-7cfa4dfc7da5"
      },
      "execution_count": null,
      "outputs": [
        {
          "output_type": "stream",
          "name": "stdout",
          "text": [
            "Apple  -  PROPN  -  NNP  -  noun, proper singular\n",
            "is  -  AUX  -  VBZ  -  verb, 3rd person singular present\n",
            "looking  -  VERB  -  VBG  -  verb, gerund or present participle\n",
            "at  -  ADP  -  IN  -  conjunction, subordinating or preposition\n",
            "buying  -  VERB  -  VBG  -  verb, gerund or present participle\n",
            "U.K.  -  PROPN  -  NNP  -  noun, proper singular\n",
            "startup  -  NOUN  -  NN  -  noun, singular or mass\n",
            "for  -  ADP  -  IN  -  conjunction, subordinating or preposition\n",
            "$  -  SYM  -  $  -  symbol, currency\n",
            "1  -  NUM  -  CD  -  cardinal number\n",
            "billion  -  NUM  -  CD  -  cardinal number\n"
          ]
        }
      ]
    },
    {
      "cell_type": "code",
      "source": [
        "import spacy\n",
        "\n",
        "#Load the spaCy model\n",
        "nlp = spacy.load(\"en_core_web_sm\")\n",
        "\n",
        "#Process a paragraph\n",
        "s1 = \"Apple is looking at buying U.K. startup for $1 billion\"\n",
        "doc = nlp(s1)\n",
        "\n",
        "for token in doc:\n",
        "  print(token.text, \" - \", token.pos_ , \" - \", token.tag_, \" - \" , spacy.explain(token.tag_))"
      ],
      "metadata": {
        "colab": {
          "base_uri": "https://localhost:8080/"
        },
        "id": "ZYRzlGHAjkYc",
        "outputId": "255c535b-8af6-4267-ce40-2d247f9e4fee"
      },
      "execution_count": null,
      "outputs": [
        {
          "output_type": "stream",
          "name": "stdout",
          "text": [
            "Apple  -  PROPN  -  NNP  -  noun, proper singular\n",
            "is  -  AUX  -  VBZ  -  verb, 3rd person singular present\n",
            "looking  -  VERB  -  VBG  -  verb, gerund or present participle\n",
            "at  -  ADP  -  IN  -  conjunction, subordinating or preposition\n",
            "buying  -  VERB  -  VBG  -  verb, gerund or present participle\n",
            "U.K.  -  PROPN  -  NNP  -  noun, proper singular\n",
            "startup  -  NOUN  -  NN  -  noun, singular or mass\n",
            "for  -  ADP  -  IN  -  conjunction, subordinating or preposition\n",
            "$  -  SYM  -  $  -  symbol, currency\n",
            "1  -  NUM  -  CD  -  cardinal number\n",
            "billion  -  NUM  -  CD  -  cardinal number\n"
          ]
        }
      ]
    },
    {
      "cell_type": "code",
      "source": [
        "import spacy\n",
        "# Load the spaCy model\n",
        "nlp = spacy.load('en_core_web_sm')\n",
        "# Sample sentence\n",
        "s1 = \"Apple is looking at buying U.K. startup for $1 billion\"\n",
        "# Process the sentence\n",
        "doc = nlp(s1)\n",
        "# Print the detailed information for each token in the sentence\n",
        "for token in doc:\n",
        "  print(f\"Text: {token.text}\")\n",
        "  print(f\"Lemma: {token.lemma_}\")\n",
        "  print(f\"POS: {token.pos_}\")\n",
        "  print(f\"Tag: {token.tag_} - {spacy.explain(token.tag_)}\")\n",
        "  print(f\"Dependency: {token.dep_}\")\n",
        "  print(f\"Shape: {token.shape_}\")\n",
        "  print(f\"Is Alpha: {token.is_alpha}\")\n",
        "  print(f\"Is Stop: {token.is_stop}\")\n",
        "  print(\"\\n\")\n"
      ],
      "metadata": {
        "colab": {
          "base_uri": "https://localhost:8080/"
        },
        "id": "M9cclPXHkuf_",
        "outputId": "1f45ff84-cf70-4d75-d6af-7498722b3450"
      },
      "execution_count": null,
      "outputs": [
        {
          "output_type": "stream",
          "name": "stdout",
          "text": [
            "Text: Apple\n",
            "Lemma: Apple\n",
            "POS: PROPN\n",
            "Tag: NNP - noun, proper singular\n",
            "Dependency: nsubj\n",
            "Shape: Xxxxx\n",
            "Is Alpha: True\n",
            "Is Stop: False\n",
            "\n",
            "\n",
            "Text: is\n",
            "Lemma: be\n",
            "POS: AUX\n",
            "Tag: VBZ - verb, 3rd person singular present\n",
            "Dependency: aux\n",
            "Shape: xx\n",
            "Is Alpha: True\n",
            "Is Stop: True\n",
            "\n",
            "\n",
            "Text: looking\n",
            "Lemma: look\n",
            "POS: VERB\n",
            "Tag: VBG - verb, gerund or present participle\n",
            "Dependency: ROOT\n",
            "Shape: xxxx\n",
            "Is Alpha: True\n",
            "Is Stop: False\n",
            "\n",
            "\n",
            "Text: at\n",
            "Lemma: at\n",
            "POS: ADP\n",
            "Tag: IN - conjunction, subordinating or preposition\n",
            "Dependency: prep\n",
            "Shape: xx\n",
            "Is Alpha: True\n",
            "Is Stop: True\n",
            "\n",
            "\n",
            "Text: buying\n",
            "Lemma: buy\n",
            "POS: VERB\n",
            "Tag: VBG - verb, gerund or present participle\n",
            "Dependency: pcomp\n",
            "Shape: xxxx\n",
            "Is Alpha: True\n",
            "Is Stop: False\n",
            "\n",
            "\n",
            "Text: U.K.\n",
            "Lemma: U.K.\n",
            "POS: PROPN\n",
            "Tag: NNP - noun, proper singular\n",
            "Dependency: dobj\n",
            "Shape: X.X.\n",
            "Is Alpha: False\n",
            "Is Stop: False\n",
            "\n",
            "\n",
            "Text: startup\n",
            "Lemma: startup\n",
            "POS: NOUN\n",
            "Tag: NN - noun, singular or mass\n",
            "Dependency: dep\n",
            "Shape: xxxx\n",
            "Is Alpha: True\n",
            "Is Stop: False\n",
            "\n",
            "\n",
            "Text: for\n",
            "Lemma: for\n",
            "POS: ADP\n",
            "Tag: IN - conjunction, subordinating or preposition\n",
            "Dependency: prep\n",
            "Shape: xxx\n",
            "Is Alpha: True\n",
            "Is Stop: True\n",
            "\n",
            "\n",
            "Text: $\n",
            "Lemma: $\n",
            "POS: SYM\n",
            "Tag: $ - symbol, currency\n",
            "Dependency: quantmod\n",
            "Shape: $\n",
            "Is Alpha: False\n",
            "Is Stop: False\n",
            "\n",
            "\n",
            "Text: 1\n",
            "Lemma: 1\n",
            "POS: NUM\n",
            "Tag: CD - cardinal number\n",
            "Dependency: compound\n",
            "Shape: d\n",
            "Is Alpha: False\n",
            "Is Stop: False\n",
            "\n",
            "\n",
            "Text: billion\n",
            "Lemma: billion\n",
            "POS: NUM\n",
            "Tag: CD - cardinal number\n",
            "Dependency: pobj\n",
            "Shape: xxxx\n",
            "Is Alpha: True\n",
            "Is Stop: False\n",
            "\n",
            "\n"
          ]
        }
      ]
    },
    {
      "cell_type": "code",
      "source": [
        "from sklearn.feature_extraction.text import CountVectorizer\n",
        "text = [\"the quick brown fox jumped over the lazy dog\"]\n",
        "vectorizer = CountVectorizer()\n",
        "vectorizer.fit(text)\n",
        "print(vectorizer.vocabulary_)\n",
        "vector = vectorizer.transform(text)\n",
        "print(vector.shape)\n",
        "print(type(vector))\n",
        "print(vector.toarray())"
      ],
      "metadata": {
        "colab": {
          "base_uri": "https://localhost:8080/"
        },
        "id": "NExm0x2ioFuc",
        "outputId": "53fac646-558b-4cca-fea2-4add5a6e932e"
      },
      "execution_count": null,
      "outputs": [
        {
          "output_type": "stream",
          "name": "stdout",
          "text": [
            "{'the': 7, 'quick': 6, 'brown': 0, 'fox': 2, 'jumped': 3, 'over': 5, 'lazy': 4, 'dog': 1}\n",
            "(1, 8)\n",
            "<class 'scipy.sparse._csr.csr_matrix'>\n",
            "[[1 1 1 1 1 1 1 2]]\n"
          ]
        }
      ]
    },
    {
      "cell_type": "code",
      "source": [
        "!pip install nltk\n",
        "import nltk # Import NLTK\n",
        "\n",
        "nltk.download('punkt') # Download the 'punkt' resource for sentence tokenization"
      ],
      "metadata": {
        "colab": {
          "base_uri": "https://localhost:8080/"
        },
        "id": "aaa7DVGepuAm",
        "outputId": "d083c688-4ab3-4d6c-9859-ab4a1db44db1"
      },
      "execution_count": null,
      "outputs": [
        {
          "output_type": "stream",
          "name": "stdout",
          "text": [
            "Requirement already satisfied: nltk in /usr/local/lib/python3.10/dist-packages (3.8.1)\n",
            "Requirement already satisfied: click in /usr/local/lib/python3.10/dist-packages (from nltk) (8.1.7)\n",
            "Requirement already satisfied: joblib in /usr/local/lib/python3.10/dist-packages (from nltk) (1.4.2)\n",
            "Requirement already satisfied: regex>=2021.8.3 in /usr/local/lib/python3.10/dist-packages (from nltk) (2024.5.15)\n",
            "Requirement already satisfied: tqdm in /usr/local/lib/python3.10/dist-packages (from nltk) (4.66.4)\n"
          ]
        },
        {
          "output_type": "stream",
          "name": "stderr",
          "text": [
            "[nltk_data] Downloading package punkt to /root/nltk_data...\n",
            "[nltk_data]   Package punkt is already up-to-date!\n"
          ]
        },
        {
          "output_type": "execute_result",
          "data": {
            "text/plain": [
              "True"
            ]
          },
          "metadata": {},
          "execution_count": 47
        }
      ]
    },
    {
      "cell_type": "code",
      "source": [
        "from nltk import word_tokenize, FreqDist\n",
        "\n",
        "\n",
        "text = \"The lion is a wild animal. The tiger is a wild animal too\"\n",
        "\n",
        "words = word_tokenize(text) # Tokenize the text\n",
        "\n",
        "freq_dist = FreqDist(words) # Calculate the frequency distribution\n",
        "\n",
        "print(\"Word Frequency Distribution:\")\n",
        "print(freq_dist.most_common()) # Print the most common words and their frequencies"
      ],
      "metadata": {
        "colab": {
          "base_uri": "https://localhost:8080/"
        },
        "id": "LIUTs2tYpKvQ",
        "outputId": "d1f11f31-b546-47c4-cc68-f6412036d5f8"
      },
      "execution_count": null,
      "outputs": [
        {
          "output_type": "stream",
          "name": "stdout",
          "text": [
            "Word Frequency Distribution:\n",
            "[('The', 2), ('is', 2), ('a', 2), ('wild', 2), ('animal', 2), ('lion', 1), ('.', 1), ('tiger', 1), ('too', 1)]\n"
          ]
        }
      ]
    },
    {
      "cell_type": "markdown",
      "source": [
        "#Machine Learning"
      ],
      "metadata": {
        "id": "C9OX7B5ZqIp_"
      }
    },
    {
      "cell_type": "code",
      "source": [
        "import pandas as pd\n",
        "\n",
        "df = pd.read_csv('/content/ml1.csv')\n",
        "\n",
        "x=df.iloc[:,0:-1]\n",
        "y=df['premium']\n",
        "print(x)\n",
        "print(y)"
      ],
      "metadata": {
        "colab": {
          "base_uri": "https://localhost:8080/"
        },
        "id": "XBzpmN4drMQY",
        "outputId": "d802e0d8-a1aa-46c4-b135-a3acc9890c55"
      },
      "execution_count": null,
      "outputs": [
        {
          "output_type": "stream",
          "name": "stdout",
          "text": [
            "   age\n",
            "0   25\n",
            "1   30\n",
            "2   35\n",
            "3   40\n",
            "4   45\n",
            "0    18000\n",
            "1    32000\n",
            "2    40000\n",
            "3    47000\n",
            "4    55000\n",
            "Name: premium, dtype: int64\n"
          ]
        }
      ]
    },
    {
      "cell_type": "code",
      "source": [
        "from sklearn.model_selection import train_test_split\n",
        "\n",
        "x_train, x_test, y_train, y_test = train_test_split(x, y, test_size=0.3, random_state=51)"
      ],
      "metadata": {
        "id": "JHWIYgVCtPXK"
      },
      "execution_count": null,
      "outputs": []
    },
    {
      "cell_type": "code",
      "source": [
        "from sklearn import linear_model\n",
        "\n",
        "lr=linear_model.LinearRegression()\n",
        "lr.fit(x_train,y_train)\n",
        "\n",
        "ansfor21=lr.predict([[21]])\n",
        "ansfor50=lr.predict([[50]])\n",
        "\n",
        "print(ansfor21)\n",
        "print(ansfor50)"
      ],
      "metadata": {
        "colab": {
          "base_uri": "https://localhost:8080/"
        },
        "id": "rmjvv9kGub-Y",
        "outputId": "ee3d17b1-496d-4874-9608-adddd8e3bb88"
      },
      "execution_count": null,
      "outputs": [
        {
          "output_type": "stream",
          "name": "stdout",
          "text": [
            "[13084.61538462]\n",
            "[64615.38461538]\n"
          ]
        },
        {
          "output_type": "stream",
          "name": "stderr",
          "text": [
            "/usr/local/lib/python3.10/dist-packages/sklearn/base.py:439: UserWarning: X does not have valid feature names, but LinearRegression was fitted with feature names\n",
            "  warnings.warn(\n",
            "/usr/local/lib/python3.10/dist-packages/sklearn/base.py:439: UserWarning: X does not have valid feature names, but LinearRegression was fitted with feature names\n",
            "  warnings.warn(\n"
          ]
        }
      ]
    },
    {
      "cell_type": "code",
      "source": [
        "ansfor1strec=lr.predict(x_test[0:1]) #only first record\n",
        "\n",
        "print(\"Predict Premium:\",lr.predict(x_test)) #All the record\n",
        "print(\"Let's Compare with in % Accuracy\")\n",
        "print(lr.score(x_test,y_test))"
      ],
      "metadata": {
        "colab": {
          "base_uri": "https://localhost:8080/"
        },
        "id": "CxFoOHWxv4--",
        "outputId": "115580f5-39e5-4b78-af43-0d72e958d2d8"
      },
      "execution_count": null,
      "outputs": [
        {
          "output_type": "stream",
          "name": "stdout",
          "text": [
            "Predict Premium: [37961.53846154 46846.15384615]\n",
            "Let's Compare with in % Accuracy\n",
            "0.8294288129452951\n"
          ]
        }
      ]
    },
    {
      "cell_type": "code",
      "source": [
        "import pandas as pd\n",
        "df = pd.read_csv('/content/personData.csv')\n",
        "print(df)\n",
        "x = df.iloc[:,0:3]\n",
        "y = df['premium']\n",
        "print(x)\n",
        "print(y)"
      ],
      "metadata": {
        "colab": {
          "base_uri": "https://localhost:8080/"
        },
        "id": "cfSPC_PtxYRE",
        "outputId": "08c99824-d571-466d-ee68-ad5fb22af65e"
      },
      "execution_count": null,
      "outputs": [
        {
          "output_type": "stream",
          "name": "stdout",
          "text": [
            "   Age  height  weight  premium\n",
            "0   25  165.56      70    18000\n",
            "1   30  172.72      95    38000\n",
            "2   35  167.74      78    38000\n",
            "3   40  165.25     110    60000\n",
            "4   45  157.48      85    70000\n",
            "   Age  height  weight\n",
            "0   25  165.56      70\n",
            "1   30  172.72      95\n",
            "2   35  167.74      78\n",
            "3   40  165.25     110\n",
            "4   45  157.48      85\n",
            "0    18000\n",
            "1    38000\n",
            "2    38000\n",
            "3    60000\n",
            "4    70000\n",
            "Name: premium, dtype: int64\n"
          ]
        }
      ]
    },
    {
      "cell_type": "code",
      "source": [
        "from sklearn import linear_model\n",
        "lr = linear_model.LinearRegression()\n",
        "lr.fit(df[['Age', 'height', 'weight']], df['premium'])\n",
        "\n",
        "from sklearn.model_selection import train_test_split\n",
        "x_train, x_test, y_train, y_test = train_test_split(x, y, test_size=0.3, random_state=51)\n",
        "\n",
        "ans1list = lr.predict([[27, 167.56,60]]) # Let's predict for this\n",
        "ans2list = lr.predict([[60, 165.10, 80]]) # Let's predict for this\n",
        "print(\"predict Premium: \", lr.predict(x_test))\n",
        "print(\"let compare with in % accuracy\")\n",
        "print(lr.score(x_test, y_test))"
      ],
      "metadata": {
        "colab": {
          "base_uri": "https://localhost:8080/"
        },
        "id": "DJbR49xszmIe",
        "outputId": "18db50b0-d337-4d38-c3dd-b100cbe9072f"
      },
      "execution_count": null,
      "outputs": [
        {
          "output_type": "stream",
          "name": "stdout",
          "text": [
            "predict Premium:  [40894.85931671 62605.80739693]\n",
            "let compare with in % accuracy\n",
            "0.9373122204402142\n"
          ]
        },
        {
          "output_type": "stream",
          "name": "stderr",
          "text": [
            "/usr/local/lib/python3.10/dist-packages/sklearn/base.py:439: UserWarning: X does not have valid feature names, but LinearRegression was fitted with feature names\n",
            "  warnings.warn(\n",
            "/usr/local/lib/python3.10/dist-packages/sklearn/base.py:439: UserWarning: X does not have valid feature names, but LinearRegression was fitted with feature names\n",
            "  warnings.warn(\n"
          ]
        }
      ]
    },
    {
      "cell_type": "code",
      "source": [
        "import pandas as pd\n",
        "df = pd.read_csv('/content/insurance.csv')\n",
        "\n",
        "df['boughtinsurance'].replace({'no':'0','yes':'1'},inplace=True)\n",
        "\n",
        "print(df)\n",
        "X = df[['age']]\n",
        "y = df[['boughtinsurance']]"
      ],
      "metadata": {
        "colab": {
          "base_uri": "https://localhost:8080/"
        },
        "id": "PkeE1_GQ2G0m",
        "outputId": "c0b66932-e51a-4fc6-fe8e-28a0380f5fd7"
      },
      "execution_count": null,
      "outputs": [
        {
          "output_type": "stream",
          "name": "stdout",
          "text": [
            "   age boughtinsurance\n",
            "0   21               0\n",
            "1   48               1\n",
            "2   32               1\n",
            "3   41               1\n",
            "4   20               0\n",
            "5   35               1\n",
            "6   20               0\n",
            "7   23               0\n"
          ]
        }
      ]
    },
    {
      "cell_type": "code",
      "source": [
        "from sklearn.model_selection import train_test_split\n",
        "x_train, x_test, y_train, y_test = train_test_split(x,y, test_size =0.3, random_state=51)\n",
        "\n",
        "from sklearn.linear_model import LogisticRegression\n",
        "lr=LogisticRegression()\n",
        "lr.fit(x_train, y_train)\n",
        "age60=lr.predict([60])\n",
        "age60=lr.predict([21])\n",
        "print(\"Predict Yes or No:\",lr.predict(x_test)) #All the record\n",
        "print(\"Let's Compare with in % Accuracy\")\n",
        "print(lr.score(x_test,y_test))\n"
      ],
      "metadata": {
        "id": "MoMKzqTD3euj"
      },
      "execution_count": null,
      "outputs": []
    },
    {
      "cell_type": "markdown",
      "source": [
        "#Matching"
      ],
      "metadata": {
        "id": "qRGNFjGbqebs"
      }
    },
    {
      "cell_type": "code",
      "source": [
        "import re\n",
        "def N_Grams(text,n):\n",
        "  # split sentences into tokens\n",
        "  tokens=re.split(\"\\\\s+\",text)\n",
        "  ngrams=[]\n",
        "  # collect the n-grams\n",
        "  for i in range(len(tokens)-n+1):\n",
        "    temp=[tokens[j] for j in range(i,i+n)]\n",
        "    ngrams.append(\" \".join(temp))\n",
        "  return ngrams\n",
        "text1=\"the quick brown fox jumps the lazy dog\";\n",
        "print(N_Grams(text1,1))\n",
        "print(N_Grams(text1,2))\n",
        "print(N_Grams(text1,3))"
      ],
      "metadata": {
        "colab": {
          "base_uri": "https://localhost:8080/"
        },
        "id": "EPlriboEqjWj",
        "outputId": "8ef5eb29-a529-4c00-9857-9f9793092fa6"
      },
      "execution_count": 5,
      "outputs": [
        {
          "output_type": "stream",
          "name": "stdout",
          "text": [
            "['the', 'quick', 'brown', 'fox', 'jumps', 'the', 'lazy', 'dog']\n",
            "['the quick', 'quick brown', 'brown fox', 'fox jumps', 'jumps the', 'the lazy', 'lazy dog']\n",
            "['the quick brown', 'quick brown fox', 'brown fox jumps', 'fox jumps the', 'jumps the lazy', 'the lazy dog']\n"
          ]
        }
      ]
    },
    {
      "cell_type": "code",
      "source": [
        "import numpy as np\n",
        "import pandas as pd\n",
        "import matplotlib.pyplot as plt\n",
        "\n",
        "df = pd.read_csv('/content/spam.tsv', sep='\\t')\n",
        "\n",
        "print(df.head())"
      ],
      "metadata": {
        "colab": {
          "base_uri": "https://localhost:8080/"
        },
        "id": "DlTckfoIuDxP",
        "outputId": "63b208c7-8402-4f2b-e9e6-d92388caf0a0"
      },
      "execution_count": 17,
      "outputs": [
        {
          "output_type": "stream",
          "name": "stdout",
          "text": [
            "  label                                            message  length  punct\n",
            "0   ham  Go until jurong point, crazy.. Available only ...     111      9\n",
            "1   ham                      Ok lar... Joking wif u oni...      29      6\n",
            "2  spam  Free entry in 2 a wkly comp to win FA Cup fina...     155      6\n",
            "3   ham  U dun say so early hor... U c already then say...      49      6\n",
            "4   ham  Nah I don't think he goes to usf, he lives aro...      61      2\n"
          ]
        }
      ]
    },
    {
      "cell_type": "code",
      "source": [
        "df.isna().sum()"
      ],
      "metadata": {
        "colab": {
          "base_uri": "https://localhost:8080/"
        },
        "id": "EyQ7M1P-vg5h",
        "outputId": "cc6070c7-1174-4bc0-8b99-866e50441437"
      },
      "execution_count": 18,
      "outputs": [
        {
          "output_type": "execute_result",
          "data": {
            "text/plain": [
              "label      0\n",
              "message    0\n",
              "length     0\n",
              "punct      0\n",
              "dtype: int64"
            ]
          },
          "metadata": {},
          "execution_count": 18
        }
      ]
    },
    {
      "cell_type": "code",
      "source": [
        "df.tail()"
      ],
      "metadata": {
        "colab": {
          "base_uri": "https://localhost:8080/",
          "height": 206
        },
        "id": "8cHBGgM2xDfI",
        "outputId": "8a0b48ef-38f0-4c03-99c7-6d795938bbcc"
      },
      "execution_count": 19,
      "outputs": [
        {
          "output_type": "execute_result",
          "data": {
            "text/plain": [
              "     label                                            message  length  punct\n",
              "5567  spam  This is the 2nd time we have tried 2 contact u...     160      8\n",
              "5568   ham               Will ü b going to esplanade fr home?      36      1\n",
              "5569   ham  Pity, * was in mood for that. So...any other s...      57      7\n",
              "5570   ham  The guy did some bitching but I acted like i'd...     125      1\n",
              "5571   ham                         Rofl. Its true to its name      26      1"
            ],
            "text/html": [
              "\n",
              "  <div id=\"df-5e561fbf-7128-44d0-8b64-34638e02c4dd\" class=\"colab-df-container\">\n",
              "    <div>\n",
              "<style scoped>\n",
              "    .dataframe tbody tr th:only-of-type {\n",
              "        vertical-align: middle;\n",
              "    }\n",
              "\n",
              "    .dataframe tbody tr th {\n",
              "        vertical-align: top;\n",
              "    }\n",
              "\n",
              "    .dataframe thead th {\n",
              "        text-align: right;\n",
              "    }\n",
              "</style>\n",
              "<table border=\"1\" class=\"dataframe\">\n",
              "  <thead>\n",
              "    <tr style=\"text-align: right;\">\n",
              "      <th></th>\n",
              "      <th>label</th>\n",
              "      <th>message</th>\n",
              "      <th>length</th>\n",
              "      <th>punct</th>\n",
              "    </tr>\n",
              "  </thead>\n",
              "  <tbody>\n",
              "    <tr>\n",
              "      <th>5567</th>\n",
              "      <td>spam</td>\n",
              "      <td>This is the 2nd time we have tried 2 contact u...</td>\n",
              "      <td>160</td>\n",
              "      <td>8</td>\n",
              "    </tr>\n",
              "    <tr>\n",
              "      <th>5568</th>\n",
              "      <td>ham</td>\n",
              "      <td>Will ü b going to esplanade fr home?</td>\n",
              "      <td>36</td>\n",
              "      <td>1</td>\n",
              "    </tr>\n",
              "    <tr>\n",
              "      <th>5569</th>\n",
              "      <td>ham</td>\n",
              "      <td>Pity, * was in mood for that. So...any other s...</td>\n",
              "      <td>57</td>\n",
              "      <td>7</td>\n",
              "    </tr>\n",
              "    <tr>\n",
              "      <th>5570</th>\n",
              "      <td>ham</td>\n",
              "      <td>The guy did some bitching but I acted like i'd...</td>\n",
              "      <td>125</td>\n",
              "      <td>1</td>\n",
              "    </tr>\n",
              "    <tr>\n",
              "      <th>5571</th>\n",
              "      <td>ham</td>\n",
              "      <td>Rofl. Its true to its name</td>\n",
              "      <td>26</td>\n",
              "      <td>1</td>\n",
              "    </tr>\n",
              "  </tbody>\n",
              "</table>\n",
              "</div>\n",
              "    <div class=\"colab-df-buttons\">\n",
              "\n",
              "  <div class=\"colab-df-container\">\n",
              "    <button class=\"colab-df-convert\" onclick=\"convertToInteractive('df-5e561fbf-7128-44d0-8b64-34638e02c4dd')\"\n",
              "            title=\"Convert this dataframe to an interactive table.\"\n",
              "            style=\"display:none;\">\n",
              "\n",
              "  <svg xmlns=\"http://www.w3.org/2000/svg\" height=\"24px\" viewBox=\"0 -960 960 960\">\n",
              "    <path d=\"M120-120v-720h720v720H120Zm60-500h600v-160H180v160Zm220 220h160v-160H400v160Zm0 220h160v-160H400v160ZM180-400h160v-160H180v160Zm440 0h160v-160H620v160ZM180-180h160v-160H180v160Zm440 0h160v-160H620v160Z\"/>\n",
              "  </svg>\n",
              "    </button>\n",
              "\n",
              "  <style>\n",
              "    .colab-df-container {\n",
              "      display:flex;\n",
              "      gap: 12px;\n",
              "    }\n",
              "\n",
              "    .colab-df-convert {\n",
              "      background-color: #E8F0FE;\n",
              "      border: none;\n",
              "      border-radius: 50%;\n",
              "      cursor: pointer;\n",
              "      display: none;\n",
              "      fill: #1967D2;\n",
              "      height: 32px;\n",
              "      padding: 0 0 0 0;\n",
              "      width: 32px;\n",
              "    }\n",
              "\n",
              "    .colab-df-convert:hover {\n",
              "      background-color: #E2EBFA;\n",
              "      box-shadow: 0px 1px 2px rgba(60, 64, 67, 0.3), 0px 1px 3px 1px rgba(60, 64, 67, 0.15);\n",
              "      fill: #174EA6;\n",
              "    }\n",
              "\n",
              "    .colab-df-buttons div {\n",
              "      margin-bottom: 4px;\n",
              "    }\n",
              "\n",
              "    [theme=dark] .colab-df-convert {\n",
              "      background-color: #3B4455;\n",
              "      fill: #D2E3FC;\n",
              "    }\n",
              "\n",
              "    [theme=dark] .colab-df-convert:hover {\n",
              "      background-color: #434B5C;\n",
              "      box-shadow: 0px 1px 3px 1px rgba(0, 0, 0, 0.15);\n",
              "      filter: drop-shadow(0px 1px 2px rgba(0, 0, 0, 0.3));\n",
              "      fill: #FFFFFF;\n",
              "    }\n",
              "  </style>\n",
              "\n",
              "    <script>\n",
              "      const buttonEl =\n",
              "        document.querySelector('#df-5e561fbf-7128-44d0-8b64-34638e02c4dd button.colab-df-convert');\n",
              "      buttonEl.style.display =\n",
              "        google.colab.kernel.accessAllowed ? 'block' : 'none';\n",
              "\n",
              "      async function convertToInteractive(key) {\n",
              "        const element = document.querySelector('#df-5e561fbf-7128-44d0-8b64-34638e02c4dd');\n",
              "        const dataTable =\n",
              "          await google.colab.kernel.invokeFunction('convertToInteractive',\n",
              "                                                    [key], {});\n",
              "        if (!dataTable) return;\n",
              "\n",
              "        const docLinkHtml = 'Like what you see? Visit the ' +\n",
              "          '<a target=\"_blank\" href=https://colab.research.google.com/notebooks/data_table.ipynb>data table notebook</a>'\n",
              "          + ' to learn more about interactive tables.';\n",
              "        element.innerHTML = '';\n",
              "        dataTable['output_type'] = 'display_data';\n",
              "        await google.colab.output.renderOutput(dataTable, element);\n",
              "        const docLink = document.createElement('div');\n",
              "        docLink.innerHTML = docLinkHtml;\n",
              "        element.appendChild(docLink);\n",
              "      }\n",
              "    </script>\n",
              "  </div>\n",
              "\n",
              "\n",
              "<div id=\"df-1b204c03-6f59-41b2-8d23-1054216de613\">\n",
              "  <button class=\"colab-df-quickchart\" onclick=\"quickchart('df-1b204c03-6f59-41b2-8d23-1054216de613')\"\n",
              "            title=\"Suggest charts\"\n",
              "            style=\"display:none;\">\n",
              "\n",
              "<svg xmlns=\"http://www.w3.org/2000/svg\" height=\"24px\"viewBox=\"0 0 24 24\"\n",
              "     width=\"24px\">\n",
              "    <g>\n",
              "        <path d=\"M19 3H5c-1.1 0-2 .9-2 2v14c0 1.1.9 2 2 2h14c1.1 0 2-.9 2-2V5c0-1.1-.9-2-2-2zM9 17H7v-7h2v7zm4 0h-2V7h2v10zm4 0h-2v-4h2v4z\"/>\n",
              "    </g>\n",
              "</svg>\n",
              "  </button>\n",
              "\n",
              "<style>\n",
              "  .colab-df-quickchart {\n",
              "      --bg-color: #E8F0FE;\n",
              "      --fill-color: #1967D2;\n",
              "      --hover-bg-color: #E2EBFA;\n",
              "      --hover-fill-color: #174EA6;\n",
              "      --disabled-fill-color: #AAA;\n",
              "      --disabled-bg-color: #DDD;\n",
              "  }\n",
              "\n",
              "  [theme=dark] .colab-df-quickchart {\n",
              "      --bg-color: #3B4455;\n",
              "      --fill-color: #D2E3FC;\n",
              "      --hover-bg-color: #434B5C;\n",
              "      --hover-fill-color: #FFFFFF;\n",
              "      --disabled-bg-color: #3B4455;\n",
              "      --disabled-fill-color: #666;\n",
              "  }\n",
              "\n",
              "  .colab-df-quickchart {\n",
              "    background-color: var(--bg-color);\n",
              "    border: none;\n",
              "    border-radius: 50%;\n",
              "    cursor: pointer;\n",
              "    display: none;\n",
              "    fill: var(--fill-color);\n",
              "    height: 32px;\n",
              "    padding: 0;\n",
              "    width: 32px;\n",
              "  }\n",
              "\n",
              "  .colab-df-quickchart:hover {\n",
              "    background-color: var(--hover-bg-color);\n",
              "    box-shadow: 0 1px 2px rgba(60, 64, 67, 0.3), 0 1px 3px 1px rgba(60, 64, 67, 0.15);\n",
              "    fill: var(--button-hover-fill-color);\n",
              "  }\n",
              "\n",
              "  .colab-df-quickchart-complete:disabled,\n",
              "  .colab-df-quickchart-complete:disabled:hover {\n",
              "    background-color: var(--disabled-bg-color);\n",
              "    fill: var(--disabled-fill-color);\n",
              "    box-shadow: none;\n",
              "  }\n",
              "\n",
              "  .colab-df-spinner {\n",
              "    border: 2px solid var(--fill-color);\n",
              "    border-color: transparent;\n",
              "    border-bottom-color: var(--fill-color);\n",
              "    animation:\n",
              "      spin 1s steps(1) infinite;\n",
              "  }\n",
              "\n",
              "  @keyframes spin {\n",
              "    0% {\n",
              "      border-color: transparent;\n",
              "      border-bottom-color: var(--fill-color);\n",
              "      border-left-color: var(--fill-color);\n",
              "    }\n",
              "    20% {\n",
              "      border-color: transparent;\n",
              "      border-left-color: var(--fill-color);\n",
              "      border-top-color: var(--fill-color);\n",
              "    }\n",
              "    30% {\n",
              "      border-color: transparent;\n",
              "      border-left-color: var(--fill-color);\n",
              "      border-top-color: var(--fill-color);\n",
              "      border-right-color: var(--fill-color);\n",
              "    }\n",
              "    40% {\n",
              "      border-color: transparent;\n",
              "      border-right-color: var(--fill-color);\n",
              "      border-top-color: var(--fill-color);\n",
              "    }\n",
              "    60% {\n",
              "      border-color: transparent;\n",
              "      border-right-color: var(--fill-color);\n",
              "    }\n",
              "    80% {\n",
              "      border-color: transparent;\n",
              "      border-right-color: var(--fill-color);\n",
              "      border-bottom-color: var(--fill-color);\n",
              "    }\n",
              "    90% {\n",
              "      border-color: transparent;\n",
              "      border-bottom-color: var(--fill-color);\n",
              "    }\n",
              "  }\n",
              "</style>\n",
              "\n",
              "  <script>\n",
              "    async function quickchart(key) {\n",
              "      const quickchartButtonEl =\n",
              "        document.querySelector('#' + key + ' button');\n",
              "      quickchartButtonEl.disabled = true;  // To prevent multiple clicks.\n",
              "      quickchartButtonEl.classList.add('colab-df-spinner');\n",
              "      try {\n",
              "        const charts = await google.colab.kernel.invokeFunction(\n",
              "            'suggestCharts', [key], {});\n",
              "      } catch (error) {\n",
              "        console.error('Error during call to suggestCharts:', error);\n",
              "      }\n",
              "      quickchartButtonEl.classList.remove('colab-df-spinner');\n",
              "      quickchartButtonEl.classList.add('colab-df-quickchart-complete');\n",
              "    }\n",
              "    (() => {\n",
              "      let quickchartButtonEl =\n",
              "        document.querySelector('#df-1b204c03-6f59-41b2-8d23-1054216de613 button');\n",
              "      quickchartButtonEl.style.display =\n",
              "        google.colab.kernel.accessAllowed ? 'block' : 'none';\n",
              "    })();\n",
              "  </script>\n",
              "</div>\n",
              "\n",
              "    </div>\n",
              "  </div>\n"
            ],
            "application/vnd.google.colaboratory.intrinsic+json": {
              "type": "dataframe",
              "summary": "{\n  \"name\": \"df\",\n  \"rows\": 5,\n  \"fields\": [\n    {\n      \"column\": \"label\",\n      \"properties\": {\n        \"dtype\": \"category\",\n        \"num_unique_values\": 2,\n        \"samples\": [\n          \"ham\",\n          \"spam\"\n        ],\n        \"semantic_type\": \"\",\n        \"description\": \"\"\n      }\n    },\n    {\n      \"column\": \"message\",\n      \"properties\": {\n        \"dtype\": \"string\",\n        \"num_unique_values\": 5,\n        \"samples\": [\n          \"Will \\u00fc b going to esplanade fr home?\",\n          \"Rofl. Its true to its name\"\n        ],\n        \"semantic_type\": \"\",\n        \"description\": \"\"\n      }\n    },\n    {\n      \"column\": \"length\",\n      \"properties\": {\n        \"dtype\": \"number\",\n        \"std\": 58,\n        \"min\": 26,\n        \"max\": 160,\n        \"num_unique_values\": 5,\n        \"samples\": [\n          36,\n          26\n        ],\n        \"semantic_type\": \"\",\n        \"description\": \"\"\n      }\n    },\n    {\n      \"column\": \"punct\",\n      \"properties\": {\n        \"dtype\": \"number\",\n        \"std\": 3,\n        \"min\": 1,\n        \"max\": 8,\n        \"num_unique_values\": 3,\n        \"samples\": [\n          8,\n          1\n        ],\n        \"semantic_type\": \"\",\n        \"description\": \"\"\n      }\n    }\n  ]\n}"
            }
          },
          "metadata": {},
          "execution_count": 19
        }
      ]
    },
    {
      "cell_type": "code",
      "source": [
        "df.describe()"
      ],
      "metadata": {
        "colab": {
          "base_uri": "https://localhost:8080/",
          "height": 300
        },
        "id": "glwPtAt4xFn-",
        "outputId": "42d538af-d0f1-4b86-9352-342dcbfe41ea"
      },
      "execution_count": 20,
      "outputs": [
        {
          "output_type": "execute_result",
          "data": {
            "text/plain": [
              "            length        punct\n",
              "count  5572.000000  5572.000000\n",
              "mean     80.489950     4.177495\n",
              "std      59.942907     4.623919\n",
              "min       2.000000     0.000000\n",
              "25%      36.000000     2.000000\n",
              "50%      62.000000     3.000000\n",
              "75%     122.000000     6.000000\n",
              "max     910.000000   133.000000"
            ],
            "text/html": [
              "\n",
              "  <div id=\"df-e1b1ebaa-b212-44a3-9747-05d4f9b6127b\" class=\"colab-df-container\">\n",
              "    <div>\n",
              "<style scoped>\n",
              "    .dataframe tbody tr th:only-of-type {\n",
              "        vertical-align: middle;\n",
              "    }\n",
              "\n",
              "    .dataframe tbody tr th {\n",
              "        vertical-align: top;\n",
              "    }\n",
              "\n",
              "    .dataframe thead th {\n",
              "        text-align: right;\n",
              "    }\n",
              "</style>\n",
              "<table border=\"1\" class=\"dataframe\">\n",
              "  <thead>\n",
              "    <tr style=\"text-align: right;\">\n",
              "      <th></th>\n",
              "      <th>length</th>\n",
              "      <th>punct</th>\n",
              "    </tr>\n",
              "  </thead>\n",
              "  <tbody>\n",
              "    <tr>\n",
              "      <th>count</th>\n",
              "      <td>5572.000000</td>\n",
              "      <td>5572.000000</td>\n",
              "    </tr>\n",
              "    <tr>\n",
              "      <th>mean</th>\n",
              "      <td>80.489950</td>\n",
              "      <td>4.177495</td>\n",
              "    </tr>\n",
              "    <tr>\n",
              "      <th>std</th>\n",
              "      <td>59.942907</td>\n",
              "      <td>4.623919</td>\n",
              "    </tr>\n",
              "    <tr>\n",
              "      <th>min</th>\n",
              "      <td>2.000000</td>\n",
              "      <td>0.000000</td>\n",
              "    </tr>\n",
              "    <tr>\n",
              "      <th>25%</th>\n",
              "      <td>36.000000</td>\n",
              "      <td>2.000000</td>\n",
              "    </tr>\n",
              "    <tr>\n",
              "      <th>50%</th>\n",
              "      <td>62.000000</td>\n",
              "      <td>3.000000</td>\n",
              "    </tr>\n",
              "    <tr>\n",
              "      <th>75%</th>\n",
              "      <td>122.000000</td>\n",
              "      <td>6.000000</td>\n",
              "    </tr>\n",
              "    <tr>\n",
              "      <th>max</th>\n",
              "      <td>910.000000</td>\n",
              "      <td>133.000000</td>\n",
              "    </tr>\n",
              "  </tbody>\n",
              "</table>\n",
              "</div>\n",
              "    <div class=\"colab-df-buttons\">\n",
              "\n",
              "  <div class=\"colab-df-container\">\n",
              "    <button class=\"colab-df-convert\" onclick=\"convertToInteractive('df-e1b1ebaa-b212-44a3-9747-05d4f9b6127b')\"\n",
              "            title=\"Convert this dataframe to an interactive table.\"\n",
              "            style=\"display:none;\">\n",
              "\n",
              "  <svg xmlns=\"http://www.w3.org/2000/svg\" height=\"24px\" viewBox=\"0 -960 960 960\">\n",
              "    <path d=\"M120-120v-720h720v720H120Zm60-500h600v-160H180v160Zm220 220h160v-160H400v160Zm0 220h160v-160H400v160ZM180-400h160v-160H180v160Zm440 0h160v-160H620v160ZM180-180h160v-160H180v160Zm440 0h160v-160H620v160Z\"/>\n",
              "  </svg>\n",
              "    </button>\n",
              "\n",
              "  <style>\n",
              "    .colab-df-container {\n",
              "      display:flex;\n",
              "      gap: 12px;\n",
              "    }\n",
              "\n",
              "    .colab-df-convert {\n",
              "      background-color: #E8F0FE;\n",
              "      border: none;\n",
              "      border-radius: 50%;\n",
              "      cursor: pointer;\n",
              "      display: none;\n",
              "      fill: #1967D2;\n",
              "      height: 32px;\n",
              "      padding: 0 0 0 0;\n",
              "      width: 32px;\n",
              "    }\n",
              "\n",
              "    .colab-df-convert:hover {\n",
              "      background-color: #E2EBFA;\n",
              "      box-shadow: 0px 1px 2px rgba(60, 64, 67, 0.3), 0px 1px 3px 1px rgba(60, 64, 67, 0.15);\n",
              "      fill: #174EA6;\n",
              "    }\n",
              "\n",
              "    .colab-df-buttons div {\n",
              "      margin-bottom: 4px;\n",
              "    }\n",
              "\n",
              "    [theme=dark] .colab-df-convert {\n",
              "      background-color: #3B4455;\n",
              "      fill: #D2E3FC;\n",
              "    }\n",
              "\n",
              "    [theme=dark] .colab-df-convert:hover {\n",
              "      background-color: #434B5C;\n",
              "      box-shadow: 0px 1px 3px 1px rgba(0, 0, 0, 0.15);\n",
              "      filter: drop-shadow(0px 1px 2px rgba(0, 0, 0, 0.3));\n",
              "      fill: #FFFFFF;\n",
              "    }\n",
              "  </style>\n",
              "\n",
              "    <script>\n",
              "      const buttonEl =\n",
              "        document.querySelector('#df-e1b1ebaa-b212-44a3-9747-05d4f9b6127b button.colab-df-convert');\n",
              "      buttonEl.style.display =\n",
              "        google.colab.kernel.accessAllowed ? 'block' : 'none';\n",
              "\n",
              "      async function convertToInteractive(key) {\n",
              "        const element = document.querySelector('#df-e1b1ebaa-b212-44a3-9747-05d4f9b6127b');\n",
              "        const dataTable =\n",
              "          await google.colab.kernel.invokeFunction('convertToInteractive',\n",
              "                                                    [key], {});\n",
              "        if (!dataTable) return;\n",
              "\n",
              "        const docLinkHtml = 'Like what you see? Visit the ' +\n",
              "          '<a target=\"_blank\" href=https://colab.research.google.com/notebooks/data_table.ipynb>data table notebook</a>'\n",
              "          + ' to learn more about interactive tables.';\n",
              "        element.innerHTML = '';\n",
              "        dataTable['output_type'] = 'display_data';\n",
              "        await google.colab.output.renderOutput(dataTable, element);\n",
              "        const docLink = document.createElement('div');\n",
              "        docLink.innerHTML = docLinkHtml;\n",
              "        element.appendChild(docLink);\n",
              "      }\n",
              "    </script>\n",
              "  </div>\n",
              "\n",
              "\n",
              "<div id=\"df-f1dc847c-844f-4b3c-8f29-1e259b10daf4\">\n",
              "  <button class=\"colab-df-quickchart\" onclick=\"quickchart('df-f1dc847c-844f-4b3c-8f29-1e259b10daf4')\"\n",
              "            title=\"Suggest charts\"\n",
              "            style=\"display:none;\">\n",
              "\n",
              "<svg xmlns=\"http://www.w3.org/2000/svg\" height=\"24px\"viewBox=\"0 0 24 24\"\n",
              "     width=\"24px\">\n",
              "    <g>\n",
              "        <path d=\"M19 3H5c-1.1 0-2 .9-2 2v14c0 1.1.9 2 2 2h14c1.1 0 2-.9 2-2V5c0-1.1-.9-2-2-2zM9 17H7v-7h2v7zm4 0h-2V7h2v10zm4 0h-2v-4h2v4z\"/>\n",
              "    </g>\n",
              "</svg>\n",
              "  </button>\n",
              "\n",
              "<style>\n",
              "  .colab-df-quickchart {\n",
              "      --bg-color: #E8F0FE;\n",
              "      --fill-color: #1967D2;\n",
              "      --hover-bg-color: #E2EBFA;\n",
              "      --hover-fill-color: #174EA6;\n",
              "      --disabled-fill-color: #AAA;\n",
              "      --disabled-bg-color: #DDD;\n",
              "  }\n",
              "\n",
              "  [theme=dark] .colab-df-quickchart {\n",
              "      --bg-color: #3B4455;\n",
              "      --fill-color: #D2E3FC;\n",
              "      --hover-bg-color: #434B5C;\n",
              "      --hover-fill-color: #FFFFFF;\n",
              "      --disabled-bg-color: #3B4455;\n",
              "      --disabled-fill-color: #666;\n",
              "  }\n",
              "\n",
              "  .colab-df-quickchart {\n",
              "    background-color: var(--bg-color);\n",
              "    border: none;\n",
              "    border-radius: 50%;\n",
              "    cursor: pointer;\n",
              "    display: none;\n",
              "    fill: var(--fill-color);\n",
              "    height: 32px;\n",
              "    padding: 0;\n",
              "    width: 32px;\n",
              "  }\n",
              "\n",
              "  .colab-df-quickchart:hover {\n",
              "    background-color: var(--hover-bg-color);\n",
              "    box-shadow: 0 1px 2px rgba(60, 64, 67, 0.3), 0 1px 3px 1px rgba(60, 64, 67, 0.15);\n",
              "    fill: var(--button-hover-fill-color);\n",
              "  }\n",
              "\n",
              "  .colab-df-quickchart-complete:disabled,\n",
              "  .colab-df-quickchart-complete:disabled:hover {\n",
              "    background-color: var(--disabled-bg-color);\n",
              "    fill: var(--disabled-fill-color);\n",
              "    box-shadow: none;\n",
              "  }\n",
              "\n",
              "  .colab-df-spinner {\n",
              "    border: 2px solid var(--fill-color);\n",
              "    border-color: transparent;\n",
              "    border-bottom-color: var(--fill-color);\n",
              "    animation:\n",
              "      spin 1s steps(1) infinite;\n",
              "  }\n",
              "\n",
              "  @keyframes spin {\n",
              "    0% {\n",
              "      border-color: transparent;\n",
              "      border-bottom-color: var(--fill-color);\n",
              "      border-left-color: var(--fill-color);\n",
              "    }\n",
              "    20% {\n",
              "      border-color: transparent;\n",
              "      border-left-color: var(--fill-color);\n",
              "      border-top-color: var(--fill-color);\n",
              "    }\n",
              "    30% {\n",
              "      border-color: transparent;\n",
              "      border-left-color: var(--fill-color);\n",
              "      border-top-color: var(--fill-color);\n",
              "      border-right-color: var(--fill-color);\n",
              "    }\n",
              "    40% {\n",
              "      border-color: transparent;\n",
              "      border-right-color: var(--fill-color);\n",
              "      border-top-color: var(--fill-color);\n",
              "    }\n",
              "    60% {\n",
              "      border-color: transparent;\n",
              "      border-right-color: var(--fill-color);\n",
              "    }\n",
              "    80% {\n",
              "      border-color: transparent;\n",
              "      border-right-color: var(--fill-color);\n",
              "      border-bottom-color: var(--fill-color);\n",
              "    }\n",
              "    90% {\n",
              "      border-color: transparent;\n",
              "      border-bottom-color: var(--fill-color);\n",
              "    }\n",
              "  }\n",
              "</style>\n",
              "\n",
              "  <script>\n",
              "    async function quickchart(key) {\n",
              "      const quickchartButtonEl =\n",
              "        document.querySelector('#' + key + ' button');\n",
              "      quickchartButtonEl.disabled = true;  // To prevent multiple clicks.\n",
              "      quickchartButtonEl.classList.add('colab-df-spinner');\n",
              "      try {\n",
              "        const charts = await google.colab.kernel.invokeFunction(\n",
              "            'suggestCharts', [key], {});\n",
              "      } catch (error) {\n",
              "        console.error('Error during call to suggestCharts:', error);\n",
              "      }\n",
              "      quickchartButtonEl.classList.remove('colab-df-spinner');\n",
              "      quickchartButtonEl.classList.add('colab-df-quickchart-complete');\n",
              "    }\n",
              "    (() => {\n",
              "      let quickchartButtonEl =\n",
              "        document.querySelector('#df-f1dc847c-844f-4b3c-8f29-1e259b10daf4 button');\n",
              "      quickchartButtonEl.style.display =\n",
              "        google.colab.kernel.accessAllowed ? 'block' : 'none';\n",
              "    })();\n",
              "  </script>\n",
              "</div>\n",
              "\n",
              "    </div>\n",
              "  </div>\n"
            ],
            "application/vnd.google.colaboratory.intrinsic+json": {
              "type": "dataframe",
              "summary": "{\n  \"name\": \"df\",\n  \"rows\": 8,\n  \"fields\": [\n    {\n      \"column\": \"length\",\n      \"properties\": {\n        \"dtype\": \"number\",\n        \"std\": 1929.0856880389667,\n        \"min\": 2.0,\n        \"max\": 5572.0,\n        \"num_unique_values\": 8,\n        \"samples\": [\n          80.48994974874371,\n          62.0,\n          5572.0\n        ],\n        \"semantic_type\": \"\",\n        \"description\": \"\"\n      }\n    },\n    {\n      \"column\": \"punct\",\n      \"properties\": {\n        \"dtype\": \"number\",\n        \"std\": 1962.8074619689737,\n        \"min\": 0.0,\n        \"max\": 5572.0,\n        \"num_unique_values\": 8,\n        \"samples\": [\n          4.177494615936827,\n          3.0,\n          5572.0\n        ],\n        \"semantic_type\": \"\",\n        \"description\": \"\"\n      }\n    }\n  ]\n}"
            }
          },
          "metadata": {},
          "execution_count": 20
        }
      ]
    },
    {
      "cell_type": "code",
      "source": [
        "df['label'].value_counts()"
      ],
      "metadata": {
        "colab": {
          "base_uri": "https://localhost:8080/"
        },
        "id": "_VHz-SmrxJMu",
        "outputId": "1418bce1-657c-4cee-af8e-ab10eb0c2589"
      },
      "execution_count": 21,
      "outputs": [
        {
          "output_type": "execute_result",
          "data": {
            "text/plain": [
              "label\n",
              "ham     4825\n",
              "spam     747\n",
              "Name: count, dtype: int64"
            ]
          },
          "metadata": {},
          "execution_count": 21
        }
      ]
    },
    {
      "cell_type": "code",
      "source": [
        "df['label'].value_counts()/(len(df))"
      ],
      "metadata": {
        "colab": {
          "base_uri": "https://localhost:8080/"
        },
        "id": "L3hdsyyCxrAc",
        "outputId": "2b14d420-c2a6-496d-a61a-36ac75cb5e88"
      },
      "execution_count": 24,
      "outputs": [
        {
          "output_type": "execute_result",
          "data": {
            "text/plain": [
              "label\n",
              "ham     0.865937\n",
              "spam    0.134063\n",
              "Name: count, dtype: float64"
            ]
          },
          "metadata": {},
          "execution_count": 24
        }
      ]
    },
    {
      "cell_type": "code",
      "source": [
        "ham = df[df['label'] == 'ham']\n",
        "spam = df[df['label'] == 'spam']\n",
        "print(ham.shape)\n",
        "print(spam.shape)\n",
        "print(spam)"
      ],
      "metadata": {
        "colab": {
          "base_uri": "https://localhost:8080/"
        },
        "id": "sedu2KQ5xzkp",
        "outputId": "0ad1d855-25de-42a7-b91f-d57148b58c05"
      },
      "execution_count": 25,
      "outputs": [
        {
          "output_type": "stream",
          "name": "stdout",
          "text": [
            "(4825, 4)\n",
            "(747, 4)\n",
            "     label                                            message  length  punct\n",
            "2     spam  Free entry in 2 a wkly comp to win FA Cup fina...     155      6\n",
            "5     spam  FreeMsg Hey there darling it's been 3 week's n...     147      8\n",
            "8     spam  WINNER!! As a valued network customer you have...     157      6\n",
            "9     spam  Had your mobile 11 months or more? U R entitle...     154      2\n",
            "11    spam  SIX chances to win CASH! From 100 to 20,000 po...     136      8\n",
            "...    ...                                                ...     ...    ...\n",
            "5537  spam  Want explicit SEX in 30 secs? Ring 02073162414...      90      3\n",
            "5540  spam  ASKED 3MOBILE IF 0870 CHATLINES INCLU IN FREE ...     158      5\n",
            "5547  spam  Had your contract mobile 11 Mnths? Latest Moto...     160      8\n",
            "5566  spam  REMINDER FROM O2: To get 2.50 pounds free call...     147      3\n",
            "5567  spam  This is the 2nd time we have tried 2 contact u...     160      8\n",
            "\n",
            "[747 rows x 4 columns]\n"
          ]
        }
      ]
    },
    {
      "cell_type": "code",
      "source": [
        "ham = df[df['label'] == 'ham']\n",
        "spam = df[df['label'] == 'spam']\n",
        "print(ham)\n",
        "print(spam)"
      ],
      "metadata": {
        "colab": {
          "base_uri": "https://localhost:8080/"
        },
        "id": "r6_CmyW2ykua",
        "outputId": "989c1bf1-ecd8-4ec7-ebca-9501e9a44154"
      },
      "execution_count": 26,
      "outputs": [
        {
          "output_type": "stream",
          "name": "stdout",
          "text": [
            "     label                                            message  length  punct\n",
            "0      ham  Go until jurong point, crazy.. Available only ...     111      9\n",
            "1      ham                      Ok lar... Joking wif u oni...      29      6\n",
            "3      ham  U dun say so early hor... U c already then say...      49      6\n",
            "4      ham  Nah I don't think he goes to usf, he lives aro...      61      2\n",
            "6      ham  Even my brother is not like to speak with me. ...      77      2\n",
            "...    ...                                                ...     ...    ...\n",
            "5565   ham                                       Huh y lei...      12      3\n",
            "5568   ham               Will ü b going to esplanade fr home?      36      1\n",
            "5569   ham  Pity, * was in mood for that. So...any other s...      57      7\n",
            "5570   ham  The guy did some bitching but I acted like i'd...     125      1\n",
            "5571   ham                         Rofl. Its true to its name      26      1\n",
            "\n",
            "[4825 rows x 4 columns]\n",
            "     label                                            message  length  punct\n",
            "2     spam  Free entry in 2 a wkly comp to win FA Cup fina...     155      6\n",
            "5     spam  FreeMsg Hey there darling it's been 3 week's n...     147      8\n",
            "8     spam  WINNER!! As a valued network customer you have...     157      6\n",
            "9     spam  Had your mobile 11 months or more? U R entitle...     154      2\n",
            "11    spam  SIX chances to win CASH! From 100 to 20,000 po...     136      8\n",
            "...    ...                                                ...     ...    ...\n",
            "5537  spam  Want explicit SEX in 30 secs? Ring 02073162414...      90      3\n",
            "5540  spam  ASKED 3MOBILE IF 0870 CHATLINES INCLU IN FREE ...     158      5\n",
            "5547  spam  Had your contract mobile 11 Mnths? Latest Moto...     160      8\n",
            "5566  spam  REMINDER FROM O2: To get 2.50 pounds free call...     147      3\n",
            "5567  spam  This is the 2nd time we have tried 2 contact u...     160      8\n",
            "\n",
            "[747 rows x 4 columns]\n"
          ]
        }
      ]
    },
    {
      "cell_type": "code",
      "source": [
        "print(spam.shape, \" and \", spam.shape[0])\n",
        "print(ham.shape, \" and \", ham.shape[0])"
      ],
      "metadata": {
        "colab": {
          "base_uri": "https://localhost:8080/"
        },
        "id": "tLmBsw5Oy2vx",
        "outputId": "33fa189c-03d6-48fa-8d06-627ffc365858"
      },
      "execution_count": 27,
      "outputs": [
        {
          "output_type": "stream",
          "name": "stdout",
          "text": [
            "(747, 4)  and  747\n",
            "(4825, 4)  and  4825\n"
          ]
        }
      ]
    },
    {
      "cell_type": "code",
      "source": [
        "ham = ham.sample(spam.shape[0])\n",
        "print(ham.shape , \" and \", ham.shape[0])\n",
        "print(spam.shape, \" and \", spam.shape[0])"
      ],
      "metadata": {
        "colab": {
          "base_uri": "https://localhost:8080/"
        },
        "id": "2wbjuXuBzHCq",
        "outputId": "bef05887-6507-4204-aef6-e8612d0df7e5"
      },
      "execution_count": 28,
      "outputs": [
        {
          "output_type": "stream",
          "name": "stdout",
          "text": [
            "(747, 4)  and  747\n",
            "(747, 4)  and  747\n"
          ]
        }
      ]
    },
    {
      "cell_type": "code",
      "source": [
        "ham = df[df['label'] == 'ham']\n",
        "spam = df[df['label'] == 'spam']\n",
        "\n",
        "ham = ham.sample(spam.shape[0])\n",
        "data = pd.concat([ham, spam], ignore_index=True)\n",
        "\n",
        "plt.hist(data[data['label'] == 'ham']['length'], bins = 100, alpha = 0.7)\n",
        "plt.hist(data[data['label'] == 'spam']['length'], bins = 100, alpha = 0.7)\n",
        "plt.show()\n",
        "\n",
        "plt.hist(data[data['label'] == 'ham']['punct'], bins = 100, alpha = 0.7)\n",
        "plt.hist(data[data['label'] == 'spam']['punct'], bins = 100, alpha = 0.7)\n",
        "plt.show()"
      ],
      "metadata": {
        "colab": {
          "base_uri": "https://localhost:8080/",
          "height": 843
        },
        "id": "M1kSZ5ozztc6",
        "outputId": "bdcee773-ec6f-4608-d807-3a9140320050"
      },
      "execution_count": 32,
      "outputs": [
        {
          "output_type": "display_data",
          "data": {
            "text/plain": [
              "<Figure size 640x480 with 1 Axes>"
            ],
            "image/png": "[encoded data removed]"
          },
          "metadata": {}
        },
        {
          "output_type": "display_data",
          "data": {
            "text/plain": [
              "<Figure size 640x480 with 1 Axes>"
            ],
            "image/png": "[encoded data removed]"
          },
          "metadata": {}
        }
      ]
    },
    {
      "cell_type": "code",
      "source": [
        "import numpy as np\n",
        "import pandas as pd\n",
        "import matplotlib.pyplot as plt\n",
        "df = pd.read_csv('spam.tsv', sep='\\t')\n",
        "ham = df[df['label'] == 'ham']\n",
        "spam = df[df['label'] == 'spam']\n",
        "\n",
        "ham = ham.sample(spam.shape[0])\n",
        "\n",
        "data = pd.concat([ham, spam], ignore_index=True)"
      ],
      "metadata": {
        "id": "SXGqL8TK0Jen"
      },
      "execution_count": 34,
      "outputs": []
    },
    {
      "cell_type": "code",
      "source": [
        "from sklearn.model_selection import train_test_split\n",
        "# Assigning the features and labels to X and y\n",
        "\n",
        "X = data['message'] # Assuming 'message' is actually the 'text' column\n",
        "\n",
        "y = data['label']\n",
        "\n",
        "#X = data['message']: This gets all the messages (the text) and puts them in X.\n",
        "\n",
        "#y = data['label']: This gets all the labels ('ham' or 'spam') and puts them in y.\n",
        "\n",
        "X_train, X_test, y_train, y_test = train_test_split(X, y, test_size=0.3, random_state=0, shuffle=True)\n",
        "\n",
        "print(X_train.shape)\n",
        "\n",
        "print(X_test.shape)\n",
        "\n",
        "\n",
        "#The test set is 30% of the data, and the split is random but the same every time because of random_state=0."
      ],
      "metadata": {
        "colab": {
          "base_uri": "https://localhost:8080/"
        },
        "id": "QVjzw3R00rfE",
        "outputId": "95f1b5ed-0d21-443b-f890-5f424a5f957b"
      },
      "execution_count": 37,
      "outputs": [
        {
          "output_type": "stream",
          "name": "stdout",
          "text": [
            "(1045,)\n",
            "(449,)\n"
          ]
        }
      ]
    },
    {
      "cell_type": "code",
      "source": [
        "from sklearn.feature_extraction.text import TfidfVectorizer\n",
        "from sklearn.ensemble import RandomForestClassifier\n",
        "from sklearn.pipeline import Pipeline\n",
        "\n",
        "classifier = Pipeline([(\"tfidf\", TfidfVectorizer()) , (\"classifier\", RandomForestClassifier(n_estimators=100))])\n",
        "\n",
        "classifier.fit(X_train, y_train)\n"
      ],
      "metadata": {
        "colab": {
          "base_uri": "https://localhost:8080/",
          "height": 125
        },
        "id": "hMkR98gu1eQO",
        "outputId": "1ace6760-f58e-49fc-e145-42bea1108735"
      },
      "execution_count": 38,
      "outputs": [
        {
          "output_type": "execute_result",
          "data": {
            "text/plain": [
              "Pipeline(steps=[('tfidf', TfidfVectorizer()),\n",
              "                ('classifier', RandomForestClassifier())])"
            ],
            "text/html": [
              "<style>#sk-container-id-1 {color: black;background-color: white;}#sk-container-id-1 pre{padding: 0;}#sk-container-id-1 div.sk-toggleable {background-color: white;}#sk-container-id-1 label.sk-toggleable__label {cursor: pointer;display: block;width: 100%;margin-bottom: 0;padding: 0.3em;box-sizing: border-box;text-align: center;}#sk-container-id-1 label.sk-toggleable__label-arrow:before {content: \"▸\";float: left;margin-right: 0.25em;color: #696969;}#sk-container-id-1 label.sk-toggleable__label-arrow:hover:before {color: black;}#sk-container-id-1 div.sk-estimator:hover label.sk-toggleable__label-arrow:before {color: black;}#sk-container-id-1 div.sk-toggleable__content {max-height: 0;max-width: 0;overflow: hidden;text-align: left;background-color: #f0f8ff;}#sk-container-id-1 div.sk-toggleable__content pre {margin: 0.2em;color: black;border-radius: 0.25em;background-color: #f0f8ff;}#sk-container-id-1 input.sk-toggleable__control:checked~div.sk-toggleable__content {max-height: 200px;max-width: 100%;overflow: auto;}#sk-container-id-1 input.sk-toggleable__control:checked~label.sk-toggleable__label-arrow:before {content: \"▾\";}#sk-container-id-1 div.sk-estimator input.sk-toggleable__control:checked~label.sk-toggleable__label {background-color: #d4ebff;}#sk-container-id-1 div.sk-label input.sk-toggleable__control:checked~label.sk-toggleable__label {background-color: #d4ebff;}#sk-container-id-1 input.sk-hidden--visually {border: 0;clip: rect(1px 1px 1px 1px);clip: rect(1px, 1px, 1px, 1px);height: 1px;margin: -1px;overflow: hidden;padding: 0;position: absolute;width: 1px;}#sk-container-id-1 div.sk-estimator {font-family: monospace;background-color: #f0f8ff;border: 1px dotted black;border-radius: 0.25em;box-sizing: border-box;margin-bottom: 0.5em;}#sk-container-id-1 div.sk-estimator:hover {background-color: #d4ebff;}#sk-container-id-1 div.sk-parallel-item::after {content: \"\";width: 100%;border-bottom: 1px solid gray;flex-grow: 1;}#sk-container-id-1 div.sk-label:hover label.sk-toggleable__label {background-color: #d4ebff;}#sk-container-id-1 div.sk-serial::before {content: \"\";position: absolute;border-left: 1px solid gray;box-sizing: border-box;top: 0;bottom: 0;left: 50%;z-index: 0;}#sk-container-id-1 div.sk-serial {display: flex;flex-direction: column;align-items: center;background-color: white;padding-right: 0.2em;padding-left: 0.2em;position: relative;}#sk-container-id-1 div.sk-item {position: relative;z-index: 1;}#sk-container-id-1 div.sk-parallel {display: flex;align-items: stretch;justify-content: center;background-color: white;position: relative;}#sk-container-id-1 div.sk-item::before, #sk-container-id-1 div.sk-parallel-item::before {content: \"\";position: absolute;border-left: 1px solid gray;box-sizing: border-box;top: 0;bottom: 0;left: 50%;z-index: -1;}#sk-container-id-1 div.sk-parallel-item {display: flex;flex-direction: column;z-index: 1;position: relative;background-color: white;}#sk-container-id-1 div.sk-parallel-item:first-child::after {align-self: flex-end;width: 50%;}#sk-container-id-1 div.sk-parallel-item:last-child::after {align-self: flex-start;width: 50%;}#sk-container-id-1 div.sk-parallel-item:only-child::after {width: 0;}#sk-container-id-1 div.sk-dashed-wrapped {border: 1px dashed gray;margin: 0 0.4em 0.5em 0.4em;box-sizing: border-box;padding-bottom: 0.4em;background-color: white;}#sk-container-id-1 div.sk-label label {font-family: monospace;font-weight: bold;display: inline-block;line-height: 1.2em;}#sk-container-id-1 div.sk-label-container {text-align: center;}#sk-container-id-1 div.sk-container {/* jupyter's `normalize.less` sets `[hidden] { display: none; }` but bootstrap.min.css set `[hidden] { display: none !important; }` so we also need the `!important` here to be able to override the default hidden behavior on the sphinx rendered scikit-learn.org. See: https://github.com/scikit-learn/scikit-learn/issues/21755 */display: inline-block !important;position: relative;}#sk-container-id-1 div.sk-text-repr-fallback {display: none;}</style><div id=\"sk-container-id-1\" class=\"sk-top-container\"><div class=\"sk-text-repr-fallback\"><pre>Pipeline(steps=[(&#x27;tfidf&#x27;, TfidfVectorizer()),\n",
              "                (&#x27;classifier&#x27;, RandomForestClassifier())])</pre><b>In a Jupyter environment, please rerun this cell to show the HTML representation or trust the notebook. <br />On GitHub, the HTML representation is unable to render, please try loading this page with nbviewer.org.</b></div><div class=\"sk-container\" hidden><div class=\"sk-item sk-dashed-wrapped\"><div class=\"sk-label-container\"><div class=\"sk-label sk-toggleable\"><input class=\"sk-toggleable__control sk-hidden--visually\" id=\"sk-estimator-id-1\" type=\"checkbox\" ><label for=\"sk-estimator-id-1\" class=\"sk-toggleable__label sk-toggleable__label-arrow\">Pipeline</label><div class=\"sk-toggleable__content\"><pre>Pipeline(steps=[(&#x27;tfidf&#x27;, TfidfVectorizer()),\n",
              "                (&#x27;classifier&#x27;, RandomForestClassifier())])</pre></div></div></div><div class=\"sk-serial\"><div class=\"sk-item\"><div class=\"sk-estimator sk-toggleable\"><input class=\"sk-toggleable__control sk-hidden--visually\" id=\"sk-estimator-id-2\" type=\"checkbox\" ><label for=\"sk-estimator-id-2\" class=\"sk-toggleable__label sk-toggleable__label-arrow\">TfidfVectorizer</label><div class=\"sk-toggleable__content\"><pre>TfidfVectorizer()</pre></div></div></div><div class=\"sk-item\"><div class=\"sk-estimator sk-toggleable\"><input class=\"sk-toggleable__control sk-hidden--visually\" id=\"sk-estimator-id-3\" type=\"checkbox\" ><label for=\"sk-estimator-id-3\" class=\"sk-toggleable__label sk-toggleable__label-arrow\">RandomForestClassifier</label><div class=\"sk-toggleable__content\"><pre>RandomForestClassifier()</pre></div></div></div></div></div></div></div>"
            ]
          },
          "metadata": {},
          "execution_count": 38
        }
      ]
    },
    {
      "cell_type": "code",
      "source": [
        "from sklearn.feature_extraction.text import TfidfVectorizer\n",
        "from sklearn.ensemble import RandomForestClassifier\n",
        "from sklearn.pipeline import Pipeline\n",
        "\n",
        "classifier = Pipeline([(\"tfidf\", TfidfVectorizer()) , (\"classifier\", RandomForestClassifier(n_estimators=100))])\n",
        "\n",
        "classifier.fit(X_train, y_train)\n",
        "y_pred = classifier.predict(X_test)\n",
        "\n",
        "#This asks the machine to guess whether the messages in the test set are 'ham' or 'spam'.\n",
        "\n",
        "y_test, y_pred\n"
      ],
      "metadata": {
        "colab": {
          "base_uri": "https://localhost:8080/"
        },
        "id": "kMl-2iDl1hg4",
        "outputId": "bb8ca88d-7d10-45a8-9ad9-1353ace7a32e"
      },
      "execution_count": 39,
      "outputs": [
        {
          "output_type": "execute_result",
          "data": {
            "text/plain": [
              "(799     spam\n",
              " 1047    spam\n",
              " 1436    spam\n",
              " 54       ham\n",
              " 793     spam\n",
              "         ... \n",
              " 824     spam\n",
              " 822     spam\n",
              " 644      ham\n",
              " 1034    spam\n",
              " 1356    spam\n",
              " Name: label, Length: 449, dtype: object,\n",
              " array(['spam', 'spam', 'spam', 'ham', 'spam', 'spam', 'ham', 'ham', 'ham',\n",
              "        'ham', 'spam', 'ham', 'ham', 'spam', 'spam', 'spam', 'spam', 'ham',\n",
              "        'ham', 'spam', 'spam', 'ham', 'spam', 'spam', 'ham', 'spam', 'ham',\n",
              "        'ham', 'spam', 'ham', 'ham', 'spam', 'spam', 'spam', 'spam',\n",
              "        'spam', 'ham', 'ham', 'ham', 'ham', 'ham', 'ham', 'spam', 'ham',\n",
              "        'ham', 'spam', 'ham', 'ham', 'spam', 'spam', 'ham', 'ham', 'ham',\n",
              "        'spam', 'spam', 'spam', 'ham', 'ham', 'spam', 'ham', 'ham', 'ham',\n",
              "        'ham', 'spam', 'spam', 'ham', 'spam', 'ham', 'spam', 'spam',\n",
              "        'spam', 'spam', 'spam', 'ham', 'ham', 'spam', 'spam', 'ham', 'ham',\n",
              "        'ham', 'spam', 'ham', 'ham', 'ham', 'ham', 'spam', 'spam', 'ham',\n",
              "        'spam', 'ham', 'ham', 'spam', 'ham', 'ham', 'spam', 'spam', 'spam',\n",
              "        'ham', 'ham', 'ham', 'spam', 'ham', 'ham', 'spam', 'ham', 'ham',\n",
              "        'ham', 'ham', 'spam', 'spam', 'spam', 'ham', 'ham', 'spam', 'ham',\n",
              "        'spam', 'spam', 'ham', 'spam', 'ham', 'ham', 'ham', 'ham', 'spam',\n",
              "        'ham', 'ham', 'ham', 'ham', 'ham', 'spam', 'ham', 'spam', 'spam',\n",
              "        'ham', 'spam', 'spam', 'spam', 'spam', 'spam', 'spam', 'ham',\n",
              "        'ham', 'ham', 'ham', 'ham', 'spam', 'spam', 'spam', 'ham', 'spam',\n",
              "        'ham', 'spam', 'ham', 'spam', 'ham', 'ham', 'spam', 'ham', 'ham',\n",
              "        'ham', 'ham', 'ham', 'ham', 'spam', 'spam', 'ham', 'ham', 'ham',\n",
              "        'ham', 'ham', 'ham', 'spam', 'spam', 'ham', 'spam', 'ham', 'spam',\n",
              "        'ham', 'ham', 'ham', 'spam', 'ham', 'spam', 'spam', 'spam', 'spam',\n",
              "        'spam', 'ham', 'ham', 'ham', 'ham', 'ham', 'ham', 'ham', 'ham',\n",
              "        'spam', 'ham', 'spam', 'spam', 'spam', 'ham', 'spam', 'ham', 'ham',\n",
              "        'spam', 'ham', 'spam', 'spam', 'spam', 'spam', 'ham', 'ham', 'ham',\n",
              "        'ham', 'ham', 'ham', 'ham', 'spam', 'spam', 'spam', 'ham', 'ham',\n",
              "        'spam', 'spam', 'ham', 'ham', 'spam', 'ham', 'spam', 'spam', 'ham',\n",
              "        'ham', 'ham', 'ham', 'spam', 'spam', 'spam', 'spam', 'ham', 'spam',\n",
              "        'spam', 'spam', 'ham', 'ham', 'spam', 'spam', 'ham', 'ham', 'ham',\n",
              "        'spam', 'spam', 'ham', 'ham', 'ham', 'ham', 'spam', 'spam', 'ham',\n",
              "        'ham', 'spam', 'ham', 'spam', 'spam', 'ham', 'spam', 'ham', 'ham',\n",
              "        'spam', 'ham', 'spam', 'ham', 'ham', 'spam', 'spam', 'spam',\n",
              "        'spam', 'spam', 'ham', 'spam', 'ham', 'spam', 'spam', 'ham',\n",
              "        'spam', 'ham', 'spam', 'spam', 'ham', 'spam', 'spam', 'spam',\n",
              "        'ham', 'spam', 'spam', 'ham', 'ham', 'spam', 'ham', 'ham', 'ham',\n",
              "        'spam', 'spam', 'spam', 'ham', 'ham', 'ham', 'ham', 'ham', 'spam',\n",
              "        'spam', 'ham', 'ham', 'spam', 'spam', 'spam', 'spam', 'ham',\n",
              "        'spam', 'spam', 'spam', 'ham', 'ham', 'ham', 'ham', 'spam', 'ham',\n",
              "        'ham', 'spam', 'spam', 'ham', 'ham', 'ham', 'spam', 'ham', 'ham',\n",
              "        'ham', 'spam', 'ham', 'spam', 'ham', 'ham', 'ham', 'spam', 'spam',\n",
              "        'spam', 'ham', 'ham', 'spam', 'spam', 'ham', 'ham', 'spam', 'spam',\n",
              "        'ham', 'ham', 'ham', 'ham', 'spam', 'ham', 'ham', 'ham', 'spam',\n",
              "        'ham', 'ham', 'spam', 'spam', 'spam', 'ham', 'ham', 'ham', 'ham',\n",
              "        'ham', 'ham', 'spam', 'ham', 'ham', 'ham', 'spam', 'ham', 'ham',\n",
              "        'ham', 'ham', 'spam', 'spam', 'ham', 'spam', 'spam', 'spam', 'ham',\n",
              "        'ham', 'spam', 'ham', 'ham', 'spam', 'ham', 'spam', 'ham', 'ham',\n",
              "        'spam', 'ham', 'ham', 'spam', 'ham', 'ham', 'spam', 'ham', 'ham',\n",
              "        'spam', 'spam', 'ham', 'ham', 'spam', 'spam', 'spam', 'ham',\n",
              "        'spam', 'spam', 'spam', 'ham', 'ham', 'ham', 'spam', 'spam', 'ham',\n",
              "        'spam', 'ham', 'ham', 'ham', 'ham', 'spam', 'ham', 'ham', 'spam',\n",
              "        'ham', 'spam', 'ham', 'ham', 'spam', 'ham', 'spam', 'spam', 'spam',\n",
              "        'ham', 'spam', 'ham', 'spam', 'ham', 'spam', 'spam'], dtype=object))"
            ]
          },
          "metadata": {},
          "execution_count": 39
        }
      ]
    },
    {
      "cell_type": "code",
      "source": [
        "from sklearn.metrics import classification_report, accuracy_score, confusion_matrix\n",
        "\n",
        "print(classification_report(y_test, y_pred))\n",
        "print(accuracy_score(y_test, y_pred))\n",
        "print(confusion_matrix(y_test, y_pred))\n",
        "\n",
        "#This shows a report on how well the machine did\n",
        "\n",
        "#This prints the accuracy, or how many times it was\n",
        "\n",
        "#This prints a table that shows where it got confused."
      ],
      "metadata": {
        "colab": {
          "base_uri": "https://localhost:8080/"
        },
        "id": "wGeehBS31tPx",
        "outputId": "41f96fec-e921-418c-9aa8-8e5c05cd8c07"
      },
      "execution_count": 41,
      "outputs": [
        {
          "output_type": "stream",
          "name": "stdout",
          "text": [
            "              precision    recall  f1-score   support\n",
            "\n",
            "         ham       0.91      0.99      0.95       227\n",
            "        spam       0.99      0.91      0.94       222\n",
            "\n",
            "    accuracy                           0.95       449\n",
            "   macro avg       0.95      0.95      0.95       449\n",
            "weighted avg       0.95      0.95      0.95       449\n",
            "\n",
            "0.9465478841870824\n",
            "[[224   3]\n",
            " [ 21 201]]\n"
          ]
        }
      ]
    }
  ]
}